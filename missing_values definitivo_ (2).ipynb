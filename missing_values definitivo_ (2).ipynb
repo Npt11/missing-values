{
 "cells": [
  {
   "cell_type": "code",
   "execution_count": 11,
   "id": "8f22dbc8",
   "metadata": {},
   "outputs": [
    {
     "name": "stdout",
     "output_type": "stream",
     "text": [
      "Totale righe con dati mancanti: 5\n"
     ]
    }
   ],
   "source": [
    "import pandas as pd\n",
    "\n",
    "# Creazione del dataset con dizionari\n",
    "dataset = [\n",
    "    {\"età\": 25, \"punteggio\": 90, \"ammesso\": 1},\n",
    "    {\"età\": None, \"punteggio\": 85, \"ammesso\": 0},\n",
    "    {\"età\": 28, \"punteggio\": None, \"ammesso\": 1},\n",
    "    {\"età\": None, \"punteggio\": 75, \"ammesso\": 1},\n",
    "    {\"età\": 23, \"punteggio\": None, \"ammesso\": None},\n",
    "    {\"età\": 23, \"punteggio\": 77, \"ammesso\": None},\n",
    "]\n",
    "# Creazione di un DataFrame\n",
    "df = pd.DataFrame(dataset)\n",
    "\n",
    "# trova le righe con almeno un dato mancante\n",
    "righeDatiMancanti = df[df.isnull().any(axis=1)]\n",
    "\n",
    "# Conta le righe con dati mancanti\n",
    "totDatiMancanti = righeDatiMancanti.shape[0]\n",
    "\n",
    "\n",
    "print(\"Totale righe con dati mancanti:\", totDatiMancanti)\n"
   ]
  },
  {
   "cell_type": "code",
   "execution_count": 12,
   "id": "f388f81f",
   "metadata": {},
   "outputs": [
    {
     "name": "stdout",
     "output_type": "stream",
     "text": [
      "Colonne con dati mancanti:\n",
      "età          True\n",
      "punteggio    True\n",
      "ammesso      True\n",
      "dtype: bool\n",
      "Totale dei dati mancanti: 5\n"
     ]
    }
   ],
   "source": [
    "# creazione del dataset\n",
    "dataset = [\n",
    "    {\"nome\": \"Alice\", \"età\": 25, \"punteggio\": 90, \"email\": \"alice@email.com\"},\n",
    "    {\"nome\": \"Bob\", \"età\": 22, \"punteggio\": None, \"email\": None},\n",
    "    {\"nome\": \"Charlie\", \"età\": 28, \"punteggio\": 75, \"email\": \"charlie@email.com\"},\n",
    "]\n",
    "#stampa df\n",
    "df\n",
    "totDatiMancanti = righeDatiMancanti.shape[0] #shape 0 numero di righe, 1 mi da il numero di colonne\n",
    "\n",
    "dati = df.isnull().any(axis=0)\n",
    "\n",
    "print(\"Colonne con dati mancanti:\")\n",
    "print(dati)\n",
    "print(f\"Totale dei dati mancanti: {totDatiMancanti}\")"
   ]
  },
  {
   "cell_type": "code",
   "execution_count": 13,
   "id": "b34867e5",
   "metadata": {},
   "outputs": [
    {
     "data": {
      "text/html": [
       "<div>\n",
       "<style scoped>\n",
       "    .dataframe tbody tr th:only-of-type {\n",
       "        vertical-align: middle;\n",
       "    }\n",
       "\n",
       "    .dataframe tbody tr th {\n",
       "        vertical-align: top;\n",
       "    }\n",
       "\n",
       "    .dataframe thead th {\n",
       "        text-align: right;\n",
       "    }\n",
       "</style>\n",
       "<table border=\"1\" class=\"dataframe\">\n",
       "  <thead>\n",
       "    <tr style=\"text-align: right;\">\n",
       "      <th></th>\n",
       "      <th>nome</th>\n",
       "      <th>età</th>\n",
       "      <th>punteggio</th>\n",
       "      <th>email</th>\n",
       "    </tr>\n",
       "  </thead>\n",
       "  <tbody>\n",
       "    <tr>\n",
       "      <th>0</th>\n",
       "      <td>Alice</td>\n",
       "      <td>25</td>\n",
       "      <td>90.0</td>\n",
       "      <td>alice@email.com</td>\n",
       "    </tr>\n",
       "    <tr>\n",
       "      <th>2</th>\n",
       "      <td>Charlie</td>\n",
       "      <td>28</td>\n",
       "      <td>75.0</td>\n",
       "      <td>charlie@email.com</td>\n",
       "    </tr>\n",
       "  </tbody>\n",
       "</table>\n",
       "</div>"
      ],
      "text/plain": [
       "      nome  età  punteggio              email\n",
       "0    Alice   25       90.0    alice@email.com\n",
       "2  Charlie   28       75.0  charlie@email.com"
      ]
     },
     "execution_count": 13,
     "metadata": {},
     "output_type": "execute_result"
    }
   ],
   "source": [
    "# Creazione di un DataFrame\n",
    "df=pd.DataFrame(dataset)\n",
    "df1=df.dropna(inplace=True)\n",
    "df"
   ]
  },
  {
   "cell_type": "code",
   "execution_count": 14,
   "id": "71aa0a4d",
   "metadata": {},
   "outputs": [
    {
     "name": "stdout",
     "output_type": "stream",
     "text": [
      "il primo con i valori mancanti\n",
      "   Variable1  Variable2 Missing_Column\n",
      "0          1        1.0              A\n",
      "1          2        2.0              B\n",
      "2          3        NaN              A\n",
      "3          4        4.0              C\n",
      "4          5        NaN            NaN \n",
      "e il secondo con i missing values sostituiti \n",
      "   Variable1  Variable2 Missing_Column\n",
      "0          1   1.000000              A\n",
      "1          2   2.000000              B\n",
      "2          3   2.333333              A\n",
      "3          4   4.000000              C\n",
      "4          5   2.333333              A\n"
     ]
    }
   ],
   "source": [
    "import pandas as pd\n",
    "import seaborn as sns\n",
    "import numpy as np\n",
    "import matplotlib.pyplot as plt\n",
    "\n",
    "# Genera dati di esempio\n",
    "data = {\n",
    "    'Variable1': [1, 2, 3, 4, 5],\n",
    "    'Variable2': [1, 2, np.nan, 4, np.nan],\n",
    "    'Missing_Column': ['A', 'B', 'A', 'C', np.nan]\n",
    "}\n",
    "# Creazione di un DataFrame \n",
    "df=pd.DataFrame(data)\n",
    "df1=pd.DataFrame()\n",
    "\n",
    "\n",
    "numeric_cols = df.select_dtypes(include=['number'])\n",
    "df1[numeric_cols.columns] = numeric_cols.fillna(numeric_cols.mean())\n",
    "\n",
    "\n",
    "categorical_cols = df.select_dtypes(include=['object'])\n",
    "df1[categorical_cols.columns] = categorical_cols.fillna(categorical_cols.mode().iloc[0])\n",
    "\n",
    "print(f\"il primo con i valori mancanti\\n{df} \\ne il secondo con i missing values sostituiti \\n{df1}\")\n"
   ]
  },
  {
   "cell_type": "code",
   "execution_count": 16,
   "id": "90147812",
   "metadata": {},
   "outputs": [],
   "source": [
    "numericCols = df.select_dtypes(include=[\"number\"])\n",
    "df1[numericCols.columns] = df[numericCols.columns].fillna(df[numericCols.columns].mean())\n"
   ]
  },
  {
   "cell_type": "code",
   "execution_count": 17,
   "id": "d7724a26",
   "metadata": {},
   "outputs": [
    {
     "data": {
      "text/html": [
       "<div>\n",
       "<style scoped>\n",
       "    .dataframe tbody tr th:only-of-type {\n",
       "        vertical-align: middle;\n",
       "    }\n",
       "\n",
       "    .dataframe tbody tr th {\n",
       "        vertical-align: top;\n",
       "    }\n",
       "\n",
       "    .dataframe thead th {\n",
       "        text-align: right;\n",
       "    }\n",
       "</style>\n",
       "<table border=\"1\" class=\"dataframe\">\n",
       "  <thead>\n",
       "    <tr style=\"text-align: right;\">\n",
       "      <th></th>\n",
       "      <th>Variable1</th>\n",
       "      <th>Variable2</th>\n",
       "      <th>Missing_Column</th>\n",
       "    </tr>\n",
       "  </thead>\n",
       "  <tbody>\n",
       "    <tr>\n",
       "      <th>0</th>\n",
       "      <td>1</td>\n",
       "      <td>1.000000</td>\n",
       "      <td>A</td>\n",
       "    </tr>\n",
       "    <tr>\n",
       "      <th>1</th>\n",
       "      <td>2</td>\n",
       "      <td>2.000000</td>\n",
       "      <td>B</td>\n",
       "    </tr>\n",
       "    <tr>\n",
       "      <th>2</th>\n",
       "      <td>3</td>\n",
       "      <td>2.333333</td>\n",
       "      <td>A</td>\n",
       "    </tr>\n",
       "    <tr>\n",
       "      <th>3</th>\n",
       "      <td>4</td>\n",
       "      <td>4.000000</td>\n",
       "      <td>C</td>\n",
       "    </tr>\n",
       "    <tr>\n",
       "      <th>4</th>\n",
       "      <td>5</td>\n",
       "      <td>2.333333</td>\n",
       "      <td>A</td>\n",
       "    </tr>\n",
       "  </tbody>\n",
       "</table>\n",
       "</div>"
      ],
      "text/plain": [
       "   Variable1  Variable2 Missing_Column\n",
       "0          1   1.000000              A\n",
       "1          2   2.000000              B\n",
       "2          3   2.333333              A\n",
       "3          4   4.000000              C\n",
       "4          5   2.333333              A"
      ]
     },
     "execution_count": 17,
     "metadata": {},
     "output_type": "execute_result"
    }
   ],
   "source": [
    "categoryCols = df.select_dtypes(exclude=[\"number\"])\n",
    "df1[categoryCols.columns] = df[categoryCols.columns].fillna(df[categoryCols.columns].mode().iloc[0])\n",
    "df1"
   ]
  },
  {
   "cell_type": "code",
   "execution_count": 18,
   "id": "c9c8ca37",
   "metadata": {},
   "outputs": [
    {
     "data": {
      "text/html": [
       "<div>\n",
       "<style scoped>\n",
       "    .dataframe tbody tr th:only-of-type {\n",
       "        vertical-align: middle;\n",
       "    }\n",
       "\n",
       "    .dataframe tbody tr th {\n",
       "        vertical-align: top;\n",
       "    }\n",
       "\n",
       "    .dataframe thead th {\n",
       "        text-align: right;\n",
       "    }\n",
       "</style>\n",
       "<table border=\"1\" class=\"dataframe\">\n",
       "  <thead>\n",
       "    <tr style=\"text-align: right;\">\n",
       "      <th></th>\n",
       "      <th>Variable1</th>\n",
       "      <th>Variable2</th>\n",
       "      <th>Missing_Column</th>\n",
       "    </tr>\n",
       "  </thead>\n",
       "  <tbody>\n",
       "    <tr>\n",
       "      <th>0</th>\n",
       "      <td>1</td>\n",
       "      <td>1.0</td>\n",
       "      <td>A</td>\n",
       "    </tr>\n",
       "    <tr>\n",
       "      <th>1</th>\n",
       "      <td>2</td>\n",
       "      <td>2.0</td>\n",
       "      <td>B</td>\n",
       "    </tr>\n",
       "    <tr>\n",
       "      <th>2</th>\n",
       "      <td>3</td>\n",
       "      <td>NaN</td>\n",
       "      <td>A</td>\n",
       "    </tr>\n",
       "    <tr>\n",
       "      <th>3</th>\n",
       "      <td>4</td>\n",
       "      <td>4.0</td>\n",
       "      <td>C</td>\n",
       "    </tr>\n",
       "    <tr>\n",
       "      <th>4</th>\n",
       "      <td>5</td>\n",
       "      <td>NaN</td>\n",
       "      <td>NaN</td>\n",
       "    </tr>\n",
       "  </tbody>\n",
       "</table>\n",
       "</div>"
      ],
      "text/plain": [
       "   Variable1  Variable2 Missing_Column\n",
       "0          1        1.0              A\n",
       "1          2        2.0              B\n",
       "2          3        NaN              A\n",
       "3          4        4.0              C\n",
       "4          5        NaN            NaN"
      ]
     },
     "execution_count": 18,
     "metadata": {},
     "output_type": "execute_result"
    }
   ],
   "source": [
    "import pandas as pd\n",
    "import matplotlib.pyplot as plt\n",
    "import numpy as np\n",
    "\n",
    "# Genera dati di esempio\n",
    "data = {\n",
    "    'Feature1': [1, 2, np.nan, 4, 5],\n",
    "    'Feature2': [np.nan, 2, 3, 4, np.nan],\n",
    "    'Feature3': [1, np.nan, 3, 4, 5]\n",
    "}\n",
    "\n",
    "df"
   ]
  },
  {
   "cell_type": "code",
   "execution_count": 19,
   "id": "26193389",
   "metadata": {},
   "outputs": [
    {
     "data": {
      "text/html": [
       "<div>\n",
       "<style scoped>\n",
       "    .dataframe tbody tr th:only-of-type {\n",
       "        vertical-align: middle;\n",
       "    }\n",
       "\n",
       "    .dataframe tbody tr th {\n",
       "        vertical-align: top;\n",
       "    }\n",
       "\n",
       "    .dataframe thead th {\n",
       "        text-align: right;\n",
       "    }\n",
       "</style>\n",
       "<table border=\"1\" class=\"dataframe\">\n",
       "  <thead>\n",
       "    <tr style=\"text-align: right;\">\n",
       "      <th></th>\n",
       "      <th>Feature1</th>\n",
       "      <th>Feature2</th>\n",
       "      <th>Feature3</th>\n",
       "    </tr>\n",
       "  </thead>\n",
       "  <tbody>\n",
       "    <tr>\n",
       "      <th>0</th>\n",
       "      <td>1.0</td>\n",
       "      <td>NaN</td>\n",
       "      <td>1.0</td>\n",
       "    </tr>\n",
       "    <tr>\n",
       "      <th>1</th>\n",
       "      <td>2.0</td>\n",
       "      <td>2.0</td>\n",
       "      <td>NaN</td>\n",
       "    </tr>\n",
       "    <tr>\n",
       "      <th>2</th>\n",
       "      <td>NaN</td>\n",
       "      <td>3.0</td>\n",
       "      <td>3.0</td>\n",
       "    </tr>\n",
       "    <tr>\n",
       "      <th>3</th>\n",
       "      <td>4.0</td>\n",
       "      <td>4.0</td>\n",
       "      <td>4.0</td>\n",
       "    </tr>\n",
       "    <tr>\n",
       "      <th>4</th>\n",
       "      <td>5.0</td>\n",
       "      <td>NaN</td>\n",
       "      <td>5.0</td>\n",
       "    </tr>\n",
       "  </tbody>\n",
       "</table>\n",
       "</div>"
      ],
      "text/plain": [
       "   Feature1  Feature2  Feature3\n",
       "0       1.0       NaN       1.0\n",
       "1       2.0       2.0       NaN\n",
       "2       NaN       3.0       3.0\n",
       "3       4.0       4.0       4.0\n",
       "4       5.0       NaN       5.0"
      ]
     },
     "execution_count": 19,
     "metadata": {},
     "output_type": "execute_result"
    }
   ],
   "source": [
    "df=pd.DataFrame(data)\n",
    "df"
   ]
  },
  {
   "cell_type": "code",
   "execution_count": 20,
   "id": "f18bbfdc",
   "metadata": {},
   "outputs": [
    {
     "data": {
      "text/plain": [
       "5"
      ]
     },
     "execution_count": 20,
     "metadata": {},
     "output_type": "execute_result"
    }
   ],
   "source": [
    "df.isnull().sum() # restituisce una Serie contenente il conteggio dei valori nulli per ogni colonna.\n",
    "len(df) #restituisce il numero totale di righe nel DataFrame.\n"
   ]
  },
  {
   "cell_type": "code",
   "execution_count": 21,
   "id": "d2326430",
   "metadata": {},
   "outputs": [
    {
     "data": {
      "text/plain": [
       "Feature1    20.0\n",
       "Feature2    40.0\n",
       "Feature3    20.0\n",
       "dtype: float64"
      ]
     },
     "execution_count": 21,
     "metadata": {},
     "output_type": "execute_result"
    }
   ],
   "source": [
    "# Calcola la percentuale di valori nulli per ogni colonna nel DataFrame\n",
    "Mpercent = (df.isnull().sum() / len(df)) * 100\n",
    "\n",
    "# Stampa\n",
    "Mpercent\n"
   ]
  },
  {
   "cell_type": "code",
   "execution_count": 22,
   "id": "d86f9ad3",
   "metadata": {},
   "outputs": [
    {
     "name": "stdout",
     "output_type": "stream",
     "text": [
      "il primo con i valori mancanti \n",
      "   Variable1  Variable2 Missing_Column\n",
      "0          1        1.0              A\n",
      "1          2        2.0              B\n",
      "2          3        NaN              A\n",
      "3          4        4.0              C\n",
      "4          5        NaN            NaN \n",
      "e il secondo con i missing values sostituiti \n",
      "   Variable1  Variable2 Missing_Column\n",
      "0          1   1.000000              A\n",
      "1          2   2.000000              B\n",
      "2          3   2.333333              A\n",
      "3          4   4.000000              C\n",
      "4          5   2.333333              A\n"
     ]
    }
   ],
   "source": [
    "import pandas as pd\n",
    "import seaborn as sns\n",
    "import numpy as np\n",
    "import matplotlib.pyplot as plt\n",
    "\n",
    "# Genera dati di esempio\n",
    "data = {\n",
    "    'Variable1': [1, 2, 3, 4, 5],\n",
    "    'Variable2': [1, 2, np.nan, 4, np.nan],\n",
    "    'Missing_Column': ['A', 'B', 'A', 'C', np.nan]\n",
    "}\n",
    "\n",
    "# Crea un DataFrame\n",
    "df = pd.DataFrame(data)\n",
    "df1=pd.DataFrame()\n",
    "\n",
    "\n",
    "def missingvalues_sub(df):\n",
    "    # Trattamento dei missing values nelle variabili numeriche e categoriche\n",
    "    numeric_cols = df.select_dtypes(include=['number'])\n",
    "    categorical_cols = df.select_dtypes(exclude=['number'])\n",
    "    df1[numeric_cols.columns] = df[numeric_cols.columns].fillna(df[numeric_cols.columns].mean())    \n",
    "    df1[categorical_cols.columns] = df[categorical_cols.columns].fillna(df[categorical_cols.columns].mode().iloc[0])\n",
    "    return df1\n",
    "\n",
    "\n",
    "def main ():\n",
    "    df1=missingvalues_sub(df)\n",
    "    print(f\"il primo con i valori mancanti \\n{df} \\ne il secondo con i missing values sostituiti \\n{df1}\")\n",
    "\n",
    "\n",
    "if __name__ == \"__main__\":\n",
    "    main()"
   ]
  },
  {
   "cell_type": "code",
   "execution_count": 2,
   "id": "b6086804",
   "metadata": {},
   "outputs": [
    {
     "data": {
      "image/png": "[encoded data removed]",
      "text/plain": [
       "<Figure size 1000x600 with 1 Axes>"
      ]
     },
     "metadata": {},
     "output_type": "display_data"
    }
   ],
   "source": [
    "import pandas as pd\n",
    "import seaborn as sns\n",
    "import numpy as np\n",
    "import matplotlib.pyplot as plt\n",
    "\n",
    "# Genera dati di esempio\n",
    "data = {\n",
    "    'Variable1': [1, 2, 3, 4, 5],\n",
    "    'Variable2': [1, 2, np.nan, 4, np.nan],\n",
    "    'Missing_Column': ['A', 'B', 'A', 'C', np.nan]\n",
    "}\n",
    "\n",
    "# Crea un DataFrame\n",
    "df = pd.DataFrame(data)\n",
    "\n",
    "# Identifica i valori mancanti nel DataFrame\n",
    "Matrix = df.isnull()\n",
    "\n",
    "# Imposta le dimensioni del grafico\n",
    "plt.figure(figsize=(10, 6))\n",
    "\n",
    "# Crea una mappa di calore utilizzando seaborn\n",
    "sns.heatmap(Matrix, cmap='viridis', cbar=False)\n",
    "\n",
    "# Mostra il grafico\n",
    "plt.show()\n"
   ]
  },
  {
   "cell_type": "code",
   "execution_count": 10,
   "id": "4da1063c",
   "metadata": {},
   "outputs": [
    {
     "data": {
      "image/png": "[encoded data removed]",
      "text/plain": [
       "<Figure size 1000x600 with 1 Axes>"
      ]
     },
     "metadata": {},
     "output_type": "display_data"
    },
    {
     "data": {
      "image/png": "[encoded data removed]",
      "text/plain": [
       "<Figure size 1000x600 with 1 Axes>"
      ]
     },
     "metadata": {},
     "output_type": "display_data"
    },
    {
     "data": {
      "image/png": "[encoded data removed]",
      "text/plain": [
       "<Figure size 1000x600 with 1 Axes>"
      ]
     },
     "metadata": {},
     "output_type": "display_data"
    },
    {
     "data": {
      "image/png": "[encoded data removed]",
      "text/plain": [
       "<Figure size 1000x600 with 1 Axes>"
      ]
     },
     "metadata": {},
     "output_type": "display_data"
    },
    {
     "data": {
      "image/png": "[encoded data removed]",
      "text/plain": [
       "<Figure size 1000x600 with 1 Axes>"
      ]
     },
     "metadata": {},
     "output_type": "display_data"
    },
    {
     "data": {
      "application/vnd.plotly.v1+json": {
       "config": {
        "plotlyServerURL": "https://plot.ly"
       },
       "data": [
        {
         "customdata": [
          [
           "Maschio"
          ],
          [
           "Maschio"
          ],
          [
           "Maschio"
          ],
          [
           "Femmina"
          ],
          [
           "Maschio"
          ],
          [
           "Maschio"
          ],
          [
           "Maschio"
          ],
          [
           "Femmina"
          ],
          [
           "Femmina"
          ],
          [
           "Maschio"
          ],
          [
           "Maschio"
          ],
          [
           "Maschio"
          ],
          [
           "Maschio"
          ],
          [
           "Femmina"
          ],
          [
           "Femmina"
          ],
          [
           "Femmina"
          ],
          [
           "Femmina"
          ],
          [
           "Maschio"
          ],
          [
           "Maschio"
          ],
          [
           "Maschio"
          ],
          [
           "Femmina"
          ],
          [
           "Maschio"
          ],
          [
           "Femmina"
          ],
          [
           "Femmina"
          ],
          [
           "Maschio"
          ],
          [
           "Maschio"
          ],
          [
           "Maschio"
          ],
          [
           "Femmina"
          ],
          [
           "Maschio"
          ],
          [
           "Femmina"
          ],
          [
           "Maschio"
          ],
          [
           "Femmina"
          ],
          [
           "Femmina"
          ],
          [
           "Maschio"
          ],
          [
           "Femmina"
          ],
          [
           "Femmina"
          ],
          [
           "Maschio"
          ],
          [
           "Femmina"
          ],
          [
           "Maschio"
          ],
          [
           "Femmina"
          ],
          [
           "Maschio"
          ],
          [
           "Maschio"
          ],
          [
           "Femmina"
          ],
          [
           "Femmina"
          ],
          [
           "Femmina"
          ],
          [
           "Femmina"
          ],
          [
           "Femmina"
          ],
          [
           "Maschio"
          ],
          [
           "Femmina"
          ],
          [
           "Maschio"
          ],
          [
           "Maschio"
          ],
          [
           "Femmina"
          ],
          [
           "Maschio"
          ],
          [
           "Maschio"
          ],
          [
           "Maschio"
          ],
          [
           "Maschio"
          ],
          [
           "Femmina"
          ],
          [
           "Maschio"
          ],
          [
           "Femmina"
          ],
          [
           "Femmina"
          ],
          [
           "Maschio"
          ],
          [
           "Femmina"
          ],
          [
           "Femmina"
          ],
          [
           "Femmina"
          ],
          [
           "Maschio"
          ],
          [
           "Femmina"
          ],
          [
           "Femmina"
          ],
          [
           "Femmina"
          ],
          [
           "Maschio"
          ],
          [
           "Femmina"
          ],
          [
           "Maschio"
          ],
          [
           "Maschio"
          ],
          [
           "Maschio"
          ],
          [
           "Maschio"
          ],
          [
           "Maschio"
          ],
          [
           "Maschio"
          ],
          [
           "Femmina"
          ],
          [
           "Maschio"
          ],
          [
           "Femmina"
          ],
          [
           "Femmina"
          ],
          [
           "Maschio"
          ],
          [
           "Femmina"
          ],
          [
           "Femmina"
          ],
          [
           "Femmina"
          ],
          [
           "Femmina"
          ],
          [
           "Maschio"
          ],
          [
           "Femmina"
          ],
          [
           "Maschio"
          ],
          [
           "Femmina"
          ],
          [
           "Femmina"
          ],
          [
           "Maschio"
          ],
          [
           "Femmina"
          ],
          [
           "Femmina"
          ],
          [
           "Femmina"
          ],
          [
           "Maschio"
          ],
          [
           "Femmina"
          ],
          [
           "Maschio"
          ],
          [
           "Femmina"
          ],
          [
           "Maschio"
          ],
          [
           "Maschio"
          ],
          [
           "Femmina"
          ],
          [
           "Femmina"
          ],
          [
           "Maschio"
          ],
          [
           "Maschio"
          ],
          [
           "Femmina"
          ],
          [
           "Maschio"
          ],
          [
           "Femmina"
          ],
          [
           "Femmina"
          ],
          [
           "Femmina"
          ],
          [
           "Femmina"
          ],
          [
           "Maschio"
          ],
          [
           "Femmina"
          ],
          [
           "Maschio"
          ],
          [
           "Femmina"
          ],
          [
           "Maschio"
          ],
          [
           "Femmina"
          ],
          [
           "Maschio"
          ],
          [
           "Maschio"
          ],
          [
           "Femmina"
          ],
          [
           "Femmina"
          ],
          [
           "Femmina"
          ],
          [
           "Femmina"
          ],
          [
           "Maschio"
          ],
          [
           "Femmina"
          ],
          [
           "Maschio"
          ],
          [
           "Maschio"
          ],
          [
           "Femmina"
          ],
          [
           "Maschio"
          ],
          [
           "Maschio"
          ],
          [
           "Maschio"
          ],
          [
           "Maschio"
          ],
          [
           "Femmina"
          ],
          [
           "Femmina"
          ],
          [
           "Femmina"
          ],
          [
           "Femmina"
          ],
          [
           "Maschio"
          ],
          [
           "Maschio"
          ],
          [
           "Femmina"
          ],
          [
           "Femmina"
          ],
          [
           "Femmina"
          ],
          [
           "Maschio"
          ],
          [
           "Femmina"
          ],
          [
           "Femmina"
          ],
          [
           "Femmina"
          ],
          [
           "Maschio"
          ],
          [
           "Maschio"
          ],
          [
           "Maschio"
          ],
          [
           "Maschio"
          ],
          [
           "Maschio"
          ],
          [
           "Maschio"
          ],
          [
           "Maschio"
          ],
          [
           "Maschio"
          ],
          [
           "Femmina"
          ],
          [
           "Femmina"
          ],
          [
           "Maschio"
          ],
          [
           "Maschio"
          ],
          [
           "Femmina"
          ],
          [
           "Maschio"
          ],
          [
           "Maschio"
          ],
          [
           "Maschio"
          ],
          [
           "Femmina"
          ],
          [
           "Femmina"
          ],
          [
           "Femmina"
          ],
          [
           "Femmina"
          ],
          [
           "Femmina"
          ],
          [
           "Maschio"
          ],
          [
           "Femmina"
          ],
          [
           "Maschio"
          ],
          [
           "Maschio"
          ],
          [
           "Femmina"
          ],
          [
           "Femmina"
          ],
          [
           "Maschio"
          ],
          [
           "Maschio"
          ],
          [
           "Maschio"
          ],
          [
           "Femmina"
          ],
          [
           "Femmina"
          ],
          [
           "Femmina"
          ],
          [
           "Femmina"
          ],
          [
           "Femmina"
          ],
          [
           "Maschio"
          ],
          [
           "Femmina"
          ],
          [
           "Maschio"
          ],
          [
           "Maschio"
          ],
          [
           "Maschio"
          ],
          [
           "Femmina"
          ],
          [
           "Femmina"
          ],
          [
           "Femmina"
          ],
          [
           "Maschio"
          ],
          [
           "Maschio"
          ],
          [
           "Maschio"
          ],
          [
           "Maschio"
          ],
          [
           "Maschio"
          ],
          [
           "Maschio"
          ],
          [
           "Femmina"
          ],
          [
           "Femmina"
          ],
          [
           "Femmina"
          ],
          [
           "Femmina"
          ],
          [
           "Maschio"
          ],
          [
           "Maschio"
          ],
          [
           "Femmina"
          ],
          [
           "Maschio"
          ],
          [
           "Femmina"
          ],
          [
           "Femmina"
          ],
          [
           "Femmina"
          ],
          [
           "Maschio"
          ],
          [
           "Femmina"
          ],
          [
           "Femmina"
          ],
          [
           "Femmina"
          ],
          [
           "Maschio"
          ],
          [
           "Maschio"
          ],
          [
           "Femmina"
          ],
          [
           "Maschio"
          ],
          [
           "Maschio"
          ],
          [
           "Maschio"
          ],
          [
           "Maschio"
          ],
          [
           "Maschio"
          ],
          [
           "Maschio"
          ],
          [
           "Maschio"
          ],
          [
           "Maschio"
          ],
          [
           "Maschio"
          ],
          [
           "Maschio"
          ],
          [
           "Femmina"
          ],
          [
           "Femmina"
          ],
          [
           "Maschio"
          ],
          [
           "Femmina"
          ],
          [
           "Femmina"
          ],
          [
           "Maschio"
          ],
          [
           "Maschio"
          ],
          [
           "Maschio"
          ],
          [
           "Femmina"
          ],
          [
           "Femmina"
          ],
          [
           "Maschio"
          ],
          [
           "Maschio"
          ],
          [
           "Maschio"
          ],
          [
           "Femmina"
          ],
          [
           "Femmina"
          ],
          [
           "Femmina"
          ],
          [
           "Femmina"
          ],
          [
           "Maschio"
          ],
          [
           "Maschio"
          ],
          [
           "Maschio"
          ],
          [
           "Maschio"
          ],
          [
           "Femmina"
          ],
          [
           "Femmina"
          ],
          [
           "Maschio"
          ],
          [
           "Maschio"
          ],
          [
           "Femmina"
          ],
          [
           "Maschio"
          ],
          [
           "Femmina"
          ],
          [
           "Maschio"
          ],
          [
           "Maschio"
          ],
          [
           "Maschio"
          ],
          [
           "Maschio"
          ],
          [
           "Maschio"
          ],
          [
           "Maschio"
          ],
          [
           "Maschio"
          ],
          [
           "Femmina"
          ],
          [
           "Femmina"
          ],
          [
           "Femmina"
          ],
          [
           "Femmina"
          ],
          [
           "Femmina"
          ],
          [
           "Maschio"
          ],
          [
           "Maschio"
          ],
          [
           "Femmina"
          ],
          [
           "Maschio"
          ],
          [
           "Femmina"
          ],
          [
           "Femmina"
          ],
          [
           "Maschio"
          ],
          [
           "Maschio"
          ],
          [
           "Maschio"
          ],
          [
           "Femmina"
          ],
          [
           "Maschio"
          ],
          [
           "Femmina"
          ],
          [
           "Femmina"
          ],
          [
           "Femmina"
          ],
          [
           "Maschio"
          ],
          [
           "Maschio"
          ],
          [
           "Femmina"
          ],
          [
           "Maschio"
          ],
          [
           "Maschio"
          ],
          [
           "Maschio"
          ],
          [
           "Femmina"
          ],
          [
           "Femmina"
          ],
          [
           "Maschio"
          ],
          [
           "Femmina"
          ],
          [
           "Maschio"
          ],
          [
           "Maschio"
          ],
          [
           "Maschio"
          ],
          [
           "Maschio"
          ],
          [
           "Femmina"
          ],
          [
           "Femmina"
          ],
          [
           "Femmina"
          ],
          [
           "Maschio"
          ],
          [
           "Maschio"
          ],
          [
           "Maschio"
          ],
          [
           "Femmina"
          ],
          [
           "Maschio"
          ],
          [
           "Femmina"
          ],
          [
           "Femmina"
          ],
          [
           "Femmina"
          ],
          [
           "Femmina"
          ],
          [
           "Femmina"
          ],
          [
           "Femmina"
          ],
          [
           "Maschio"
          ],
          [
           "Maschio"
          ],
          [
           "Femmina"
          ],
          [
           "Femmina"
          ],
          [
           "Maschio"
          ],
          [
           "Femmina"
          ],
          [
           "Femmina"
          ],
          [
           "Maschio"
          ],
          [
           "Femmina"
          ],
          [
           "Femmina"
          ],
          [
           "Femmina"
          ],
          [
           "Maschio"
          ],
          [
           "Maschio"
          ],
          [
           "Maschio"
          ],
          [
           "Femmina"
          ],
          [
           "Femmina"
          ],
          [
           "Maschio"
          ],
          [
           "Femmina"
          ],
          [
           "Femmina"
          ],
          [
           "Femmina"
          ],
          [
           "Femmina"
          ],
          [
           "Femmina"
          ],
          [
           "Maschio"
          ],
          [
           "Femmina"
          ],
          [
           "Maschio"
          ],
          [
           "Femmina"
          ],
          [
           "Maschio"
          ],
          [
           "Femmina"
          ],
          [
           "Maschio"
          ],
          [
           "Femmina"
          ],
          [
           "Maschio"
          ],
          [
           "Femmina"
          ],
          [
           "Maschio"
          ],
          [
           "Femmina"
          ],
          [
           "Maschio"
          ],
          [
           "Maschio"
          ],
          [
           "Femmina"
          ],
          [
           "Femmina"
          ],
          [
           "Maschio"
          ],
          [
           "Femmina"
          ],
          [
           "Maschio"
          ],
          [
           "Maschio"
          ],
          [
           "Maschio"
          ],
          [
           "Femmina"
          ],
          [
           "Maschio"
          ],
          [
           "Maschio"
          ],
          [
           "Femmina"
          ],
          [
           "Femmina"
          ],
          [
           "Femmina"
          ],
          [
           "Femmina"
          ],
          [
           "Maschio"
          ],
          [
           "Maschio"
          ],
          [
           "Maschio"
          ],
          [
           "Maschio"
          ],
          [
           "Femmina"
          ],
          [
           "Maschio"
          ],
          [
           "Maschio"
          ],
          [
           "Femmina"
          ],
          [
           "Maschio"
          ],
          [
           "Maschio"
          ],
          [
           "Maschio"
          ],
          [
           "Maschio"
          ],
          [
           "Maschio"
          ],
          [
           "Maschio"
          ],
          [
           "Femmina"
          ],
          [
           "Femmina"
          ],
          [
           "Maschio"
          ],
          [
           "Maschio"
          ],
          [
           "Femmina"
          ],
          [
           "Maschio"
          ],
          [
           "Maschio"
          ],
          [
           "Maschio"
          ],
          [
           "Femmina"
          ],
          [
           "Maschio"
          ],
          [
           "Femmina"
          ],
          [
           "Maschio"
          ],
          [
           "Femmina"
          ],
          [
           "Femmina"
          ],
          [
           "Maschio"
          ],
          [
           "Femmina"
          ],
          [
           "Maschio"
          ],
          [
           "Femmina"
          ],
          [
           "Maschio"
          ],
          [
           "Maschio"
          ],
          [
           "Femmina"
          ],
          [
           "Maschio"
          ],
          [
           "Maschio"
          ],
          [
           "Femmina"
          ],
          [
           "Maschio"
          ],
          [
           "Maschio"
          ],
          [
           "Femmina"
          ],
          [
           "Femmina"
          ],
          [
           "Maschio"
          ],
          [
           "Maschio"
          ],
          [
           "Femmina"
          ],
          [
           "Femmina"
          ],
          [
           "Maschio"
          ],
          [
           "Femmina"
          ],
          [
           "Maschio"
          ],
          [
           "Maschio"
          ],
          [
           "Maschio"
          ],
          [
           "Maschio"
          ],
          [
           "Maschio"
          ],
          [
           "Femmina"
          ],
          [
           "Femmina"
          ],
          [
           "Femmina"
          ],
          [
           "Femmina"
          ],
          [
           "Maschio"
          ],
          [
           "Maschio"
          ],
          [
           "Maschio"
          ],
          [
           "Maschio"
          ],
          [
           "Femmina"
          ],
          [
           "Maschio"
          ],
          [
           "Maschio"
          ],
          [
           "Femmina"
          ],
          [
           "Femmina"
          ],
          [
           "Femmina"
          ],
          [
           "Femmina"
          ],
          [
           "Maschio"
          ],
          [
           "Maschio"
          ],
          [
           "Femmina"
          ],
          [
           "Maschio"
          ],
          [
           "Maschio"
          ],
          [
           "Maschio"
          ],
          [
           "Femmina"
          ],
          [
           "Maschio"
          ],
          [
           "Femmina"
          ],
          [
           "Maschio"
          ],
          [
           "Maschio"
          ],
          [
           "Maschio"
          ],
          [
           "Femmina"
          ],
          [
           "Maschio"
          ],
          [
           "Femmina"
          ],
          [
           "Femmina"
          ],
          [
           "Femmina"
          ],
          [
           "Maschio"
          ],
          [
           "Maschio"
          ],
          [
           "Maschio"
          ],
          [
           "Maschio"
          ],
          [
           "Femmina"
          ],
          [
           "Femmina"
          ],
          [
           "Femmina"
          ],
          [
           "Maschio"
          ],
          [
           "Femmina"
          ],
          [
           "Maschio"
          ],
          [
           "Femmina"
          ],
          [
           "Maschio"
          ],
          [
           "Maschio"
          ],
          [
           "Femmina"
          ],
          [
           "Femmina"
          ],
          [
           "Femmina"
          ],
          [
           "Femmina"
          ],
          [
           "Maschio"
          ],
          [
           "Femmina"
          ],
          [
           "Femmina"
          ],
          [
           "Femmina"
          ],
          [
           "Maschio"
          ],
          [
           "Maschio"
          ],
          [
           "Femmina"
          ],
          [
           "Maschio"
          ],
          [
           "Femmina"
          ],
          [
           "Maschio"
          ],
          [
           "Maschio"
          ],
          [
           "Maschio"
          ],
          [
           "Maschio"
          ],
          [
           "Femmina"
          ],
          [
           "Femmina"
          ],
          [
           "Femmina"
          ],
          [
           "Maschio"
          ],
          [
           "Femmina"
          ],
          [
           "Femmina"
          ],
          [
           "Femmina"
          ],
          [
           "Maschio"
          ],
          [
           "Maschio"
          ],
          [
           "Maschio"
          ],
          [
           "Femmina"
          ],
          [
           "Femmina"
          ],
          [
           "Femmina"
          ],
          [
           "Maschio"
          ],
          [
           "Maschio"
          ],
          [
           "Femmina"
          ],
          [
           "Maschio"
          ],
          [
           "Maschio"
          ],
          [
           "Maschio"
          ],
          [
           "Maschio"
          ],
          [
           "Femmina"
          ],
          [
           "Maschio"
          ],
          [
           "Maschio"
          ],
          [
           "Maschio"
          ],
          [
           "Maschio"
          ],
          [
           "Femmina"
          ],
          [
           "Femmina"
          ],
          [
           "Maschio"
          ],
          [
           "Maschio"
          ],
          [
           "Maschio"
          ],
          [
           "Maschio"
          ],
          [
           "Maschio"
          ],
          [
           "Maschio"
          ],
          [
           "Femmina"
          ],
          [
           "Maschio"
          ],
          [
           "Femmina"
          ],
          [
           "Femmina"
          ],
          [
           "Maschio"
          ],
          [
           "Femmina"
          ],
          [
           "Femmina"
          ],
          [
           "Femmina"
          ],
          [
           "Femmina"
          ],
          [
           "Femmina"
          ],
          [
           "Femmina"
          ],
          [
           "Maschio"
          ],
          [
           "Femmina"
          ],
          [
           "Femmina"
          ],
          [
           "Femmina"
          ],
          [
           "Maschio"
          ],
          [
           "Femmina"
          ],
          [
           "Maschio"
          ],
          [
           "Femmina"
          ],
          [
           "Maschio"
          ],
          [
           "Maschio"
          ],
          [
           "Femmina"
          ],
          [
           "Femmina"
          ],
          [
           "Maschio"
          ],
          [
           "Femmina"
          ],
          [
           "Maschio"
          ],
          [
           "Maschio"
          ],
          [
           "Maschio"
          ],
          [
           "Maschio"
          ],
          [
           "Maschio"
          ],
          [
           "Femmina"
          ],
          [
           "Maschio"
          ],
          [
           "Maschio"
          ],
          [
           "Femmina"
          ],
          [
           "Maschio"
          ],
          [
           "Femmina"
          ],
          [
           "Femmina"
          ],
          [
           "Femmina"
          ],
          [
           "Maschio"
          ],
          [
           "Maschio"
          ],
          [
           "Maschio"
          ],
          [
           "Femmina"
          ],
          [
           "Maschio"
          ],
          [
           "Femmina"
          ],
          [
           "Maschio"
          ],
          [
           "Femmina"
          ],
          [
           "Maschio"
          ],
          [
           "Maschio"
          ],
          [
           "Maschio"
          ],
          [
           "Femmina"
          ],
          [
           "Femmina"
          ],
          [
           "Maschio"
          ],
          [
           "Maschio"
          ],
          [
           "Femmina"
          ],
          [
           "Femmina"
          ],
          [
           "Femmina"
          ],
          [
           "Maschio"
          ],
          [
           "Femmina"
          ],
          [
           "Maschio"
          ],
          [
           "Femmina"
          ],
          [
           "Maschio"
          ],
          [
           "Femmina"
          ],
          [
           "Femmina"
          ],
          [
           "Femmina"
          ],
          [
           "Femmina"
          ],
          [
           "Femmina"
          ],
          [
           "Maschio"
          ],
          [
           "Femmina"
          ],
          [
           "Femmina"
          ],
          [
           "Femmina"
          ],
          [
           "Maschio"
          ],
          [
           "Femmina"
          ],
          [
           "Maschio"
          ],
          [
           "Femmina"
          ],
          [
           "Femmina"
          ],
          [
           "Maschio"
          ],
          [
           "Femmina"
          ],
          [
           "Maschio"
          ],
          [
           "Maschio"
          ],
          [
           "Femmina"
          ],
          [
           "Maschio"
          ],
          [
           "Femmina"
          ],
          [
           "Femmina"
          ],
          [
           "Maschio"
          ],
          [
           "Maschio"
          ],
          [
           "Maschio"
          ],
          [
           "Maschio"
          ],
          [
           "Femmina"
          ],
          [
           "Femmina"
          ],
          [
           "Maschio"
          ],
          [
           "Femmina"
          ],
          [
           "Femmina"
          ],
          [
           "Femmina"
          ],
          [
           "Femmina"
          ],
          [
           "Maschio"
          ],
          [
           "Maschio"
          ],
          [
           "Femmina"
          ],
          [
           "Maschio"
          ],
          [
           "Maschio"
          ],
          [
           "Maschio"
          ],
          [
           "Femmina"
          ],
          [
           "Femmina"
          ],
          [
           "Femmina"
          ],
          [
           "Maschio"
          ],
          [
           "Femmina"
          ],
          [
           "Femmina"
          ],
          [
           "Maschio"
          ],
          [
           "Femmina"
          ],
          [
           "Femmina"
          ],
          [
           "Maschio"
          ],
          [
           "Maschio"
          ],
          [
           "Maschio"
          ],
          [
           "Femmina"
          ],
          [
           "Femmina"
          ],
          [
           "Femmina"
          ],
          [
           "Maschio"
          ],
          [
           "Maschio"
          ],
          [
           "Femmina"
          ],
          [
           "Femmina"
          ],
          [
           "Maschio"
          ],
          [
           "Maschio"
          ],
          [
           "Maschio"
          ],
          [
           "Maschio"
          ],
          [
           "Femmina"
          ],
          [
           "Maschio"
          ],
          [
           "Femmina"
          ],
          [
           "Femmina"
          ],
          [
           "Femmina"
          ],
          [
           "Maschio"
          ],
          [
           "Maschio"
          ],
          [
           "Maschio"
          ],
          [
           "Maschio"
          ],
          [
           "Femmina"
          ],
          [
           "Maschio"
          ],
          [
           "Maschio"
          ],
          [
           "Femmina"
          ],
          [
           "Maschio"
          ],
          [
           "Femmina"
          ],
          [
           "Femmina"
          ],
          [
           "Femmina"
          ],
          [
           "Femmina"
          ],
          [
           "Femmina"
          ],
          [
           "Femmina"
          ],
          [
           "Femmina"
          ],
          [
           "Femmina"
          ],
          [
           "Maschio"
          ],
          [
           "Maschio"
          ],
          [
           "Maschio"
          ],
          [
           "Maschio"
          ],
          [
           "Femmina"
          ],
          [
           "Maschio"
          ],
          [
           "Femmina"
          ],
          [
           "Maschio"
          ],
          [
           "Maschio"
          ],
          [
           "Maschio"
          ],
          [
           "Femmina"
          ],
          [
           "Maschio"
          ],
          [
           "Femmina"
          ],
          [
           "Femmina"
          ],
          [
           "Maschio"
          ],
          [
           "Maschio"
          ],
          [
           "Maschio"
          ],
          [
           "Femmina"
          ],
          [
           "Maschio"
          ],
          [
           "Femmina"
          ],
          [
           "Femmina"
          ],
          [
           "Maschio"
          ],
          [
           "Maschio"
          ],
          [
           "Femmina"
          ],
          [
           "Femmina"
          ],
          [
           "Femmina"
          ],
          [
           "Maschio"
          ],
          [
           "Femmina"
          ],
          [
           "Maschio"
          ],
          [
           "Femmina"
          ],
          [
           "Femmina"
          ],
          [
           "Maschio"
          ],
          [
           "Femmina"
          ],
          [
           "Maschio"
          ],
          [
           "Maschio"
          ],
          [
           "Femmina"
          ],
          [
           "Maschio"
          ],
          [
           "Maschio"
          ],
          [
           "Femmina"
          ],
          [
           "Maschio"
          ],
          [
           "Maschio"
          ],
          [
           "Maschio"
          ],
          [
           "Femmina"
          ],
          [
           "Maschio"
          ],
          [
           "Femmina"
          ],
          [
           "Femmina"
          ],
          [
           "Maschio"
          ],
          [
           "Maschio"
          ],
          [
           "Maschio"
          ],
          [
           "Femmina"
          ],
          [
           "Maschio"
          ],
          [
           "Maschio"
          ],
          [
           "Maschio"
          ],
          [
           "Maschio"
          ],
          [
           "Maschio"
          ],
          [
           "Femmina"
          ],
          [
           "Femmina"
          ],
          [
           "Maschio"
          ],
          [
           "Maschio"
          ],
          [
           "Maschio"
          ],
          [
           "Maschio"
          ],
          [
           "Femmina"
          ],
          [
           "Maschio"
          ],
          [
           "Femmina"
          ],
          [
           "Femmina"
          ],
          [
           "Maschio"
          ],
          [
           "Femmina"
          ],
          [
           "Femmina"
          ],
          [
           "Femmina"
          ],
          [
           "Femmina"
          ],
          [
           "Maschio"
          ],
          [
           "Maschio"
          ],
          [
           "Femmina"
          ],
          [
           "Maschio"
          ],
          [
           "Maschio"
          ],
          [
           "Maschio"
          ],
          [
           "Maschio"
          ],
          [
           "Maschio"
          ],
          [
           "Femmina"
          ],
          [
           "Maschio"
          ],
          [
           "Maschio"
          ],
          [
           "Maschio"
          ],
          [
           "Maschio"
          ],
          [
           "Femmina"
          ],
          [
           "Femmina"
          ],
          [
           "Femmina"
          ],
          [
           "Femmina"
          ],
          [
           "Maschio"
          ],
          [
           "Femmina"
          ],
          [
           "Maschio"
          ],
          [
           "Maschio"
          ],
          [
           "Maschio"
          ],
          [
           "Maschio"
          ],
          [
           "Maschio"
          ],
          [
           "Femmina"
          ],
          [
           "Femmina"
          ],
          [
           "Femmina"
          ],
          [
           "Femmina"
          ],
          [
           "Maschio"
          ],
          [
           "Femmina"
          ],
          [
           "Maschio"
          ],
          [
           "Femmina"
          ],
          [
           "Maschio"
          ],
          [
           "Maschio"
          ],
          [
           "Femmina"
          ],
          [
           "Maschio"
          ],
          [
           "Maschio"
          ],
          [
           "Femmina"
          ],
          [
           "Maschio"
          ],
          [
           "Femmina"
          ],
          [
           "Femmina"
          ],
          [
           "Femmina"
          ],
          [
           "Maschio"
          ],
          [
           "Maschio"
          ],
          [
           "Maschio"
          ],
          [
           "Femmina"
          ],
          [
           "Maschio"
          ],
          [
           "Femmina"
          ],
          [
           "Femmina"
          ],
          [
           "Maschio"
          ],
          [
           "Femmina"
          ],
          [
           "Maschio"
          ],
          [
           "Maschio"
          ],
          [
           "Maschio"
          ],
          [
           "Maschio"
          ],
          [
           "Maschio"
          ],
          [
           "Femmina"
          ],
          [
           "Femmina"
          ],
          [
           "Femmina"
          ],
          [
           "Maschio"
          ],
          [
           "Maschio"
          ],
          [
           "Maschio"
          ],
          [
           "Femmina"
          ],
          [
           "Maschio"
          ],
          [
           "Femmina"
          ],
          [
           "Femmina"
          ],
          [
           "Maschio"
          ],
          [
           "Maschio"
          ],
          [
           "Femmina"
          ],
          [
           "Maschio"
          ],
          [
           "Femmina"
          ],
          [
           "Maschio"
          ],
          [
           "Maschio"
          ],
          [
           "Femmina"
          ],
          [
           "Maschio"
          ],
          [
           "Femmina"
          ],
          [
           "Maschio"
          ],
          [
           "Femmina"
          ],
          [
           "Femmina"
          ],
          [
           "Maschio"
          ],
          [
           "Femmina"
          ],
          [
           "Maschio"
          ],
          [
           "Maschio"
          ],
          [
           "Maschio"
          ],
          [
           "Femmina"
          ],
          [
           "Femmina"
          ],
          [
           "Maschio"
          ],
          [
           "Maschio"
          ],
          [
           "Femmina"
          ],
          [
           "Maschio"
          ],
          [
           "Maschio"
          ],
          [
           "Femmina"
          ],
          [
           "Maschio"
          ],
          [
           "Femmina"
          ],
          [
           "Maschio"
          ],
          [
           "Femmina"
          ],
          [
           "Maschio"
          ],
          [
           "Maschio"
          ],
          [
           "Femmina"
          ],
          [
           "Maschio"
          ],
          [
           "Femmina"
          ],
          [
           "Maschio"
          ],
          [
           "Femmina"
          ],
          [
           "Femmina"
          ],
          [
           "Femmina"
          ],
          [
           "Femmina"
          ],
          [
           "Maschio"
          ],
          [
           "Maschio"
          ],
          [
           "Femmina"
          ],
          [
           "Femmina"
          ],
          [
           "Femmina"
          ],
          [
           "Maschio"
          ],
          [
           "Maschio"
          ],
          [
           "Maschio"
          ],
          [
           "Maschio"
          ],
          [
           "Femmina"
          ],
          [
           "Femmina"
          ],
          [
           "Femmina"
          ],
          [
           "Maschio"
          ],
          [
           "Maschio"
          ],
          [
           "Maschio"
          ],
          [
           "Femmina"
          ],
          [
           "Femmina"
          ],
          [
           "Maschio"
          ],
          [
           "Femmina"
          ],
          [
           "Maschio"
          ],
          [
           "Maschio"
          ],
          [
           "Femmina"
          ],
          [
           "Maschio"
          ],
          [
           "Femmina"
          ],
          [
           "Maschio"
          ],
          [
           "Femmina"
          ],
          [
           "Femmina"
          ],
          [
           "Femmina"
          ],
          [
           "Maschio"
          ],
          [
           "Maschio"
          ],
          [
           "Femmina"
          ],
          [
           "Femmina"
          ],
          [
           "Maschio"
          ],
          [
           "Maschio"
          ],
          [
           "Maschio"
          ],
          [
           "Femmina"
          ],
          [
           "Maschio"
          ],
          [
           "Maschio"
          ],
          [
           "Femmina"
          ],
          [
           "Maschio"
          ],
          [
           "Maschio"
          ],
          [
           "Maschio"
          ],
          [
           "Femmina"
          ],
          [
           "Femmina"
          ],
          [
           "Femmina"
          ],
          [
           "Femmina"
          ],
          [
           "Femmina"
          ],
          [
           "Femmina"
          ],
          [
           "Femmina"
          ],
          [
           "Maschio"
          ],
          [
           "Maschio"
          ],
          [
           "Femmina"
          ],
          [
           "Maschio"
          ],
          [
           "Maschio"
          ],
          [
           "Femmina"
          ],
          [
           "Maschio"
          ],
          [
           "Maschio"
          ],
          [
           "Maschio"
          ],
          [
           "Maschio"
          ],
          [
           "Maschio"
          ],
          [
           "Femmina"
          ],
          [
           "Femmina"
          ],
          [
           "Femmina"
          ],
          [
           "Maschio"
          ],
          [
           "Femmina"
          ],
          [
           "Maschio"
          ],
          [
           "Maschio"
          ],
          [
           "Maschio"
          ],
          [
           "Maschio"
          ],
          [
           "Femmina"
          ],
          [
           "Femmina"
          ],
          [
           "Maschio"
          ],
          [
           "Femmina"
          ],
          [
           "Maschio"
          ],
          [
           "Femmina"
          ],
          [
           "Femmina"
          ],
          [
           "Maschio"
          ],
          [
           "Femmina"
          ],
          [
           "Maschio"
          ],
          [
           "Femmina"
          ],
          [
           "Maschio"
          ],
          [
           "Maschio"
          ],
          [
           "Femmina"
          ],
          [
           "Femmina"
          ],
          [
           "Maschio"
          ],
          [
           "Femmina"
          ],
          [
           "Femmina"
          ],
          [
           "Maschio"
          ],
          [
           "Maschio"
          ],
          [
           "Femmina"
          ],
          [
           "Maschio"
          ],
          [
           "Maschio"
          ],
          [
           "Maschio"
          ],
          [
           "Femmina"
          ],
          [
           "Femmina"
          ],
          [
           "Maschio"
          ],
          [
           "Femmina"
          ],
          [
           "Maschio"
          ],
          [
           "Femmina"
          ],
          [
           "Maschio"
          ],
          [
           "Maschio"
          ],
          [
           "Femmina"
          ],
          [
           "Maschio"
          ],
          [
           "Femmina"
          ],
          [
           "Femmina"
          ],
          [
           "Maschio"
          ],
          [
           "Maschio"
          ],
          [
           "Femmina"
          ],
          [
           "Maschio"
          ],
          [
           "Maschio"
          ],
          [
           "Maschio"
          ],
          [
           "Maschio"
          ],
          [
           "Maschio"
          ],
          [
           "Femmina"
          ],
          [
           "Femmina"
          ],
          [
           "Maschio"
          ],
          [
           "Maschio"
          ],
          [
           "Maschio"
          ],
          [
           "Femmina"
          ],
          [
           "Maschio"
          ],
          [
           "Femmina"
          ],
          [
           "Femmina"
          ],
          [
           "Femmina"
          ],
          [
           "Maschio"
          ],
          [
           "Femmina"
          ],
          [
           "Maschio"
          ],
          [
           "Femmina"
          ],
          [
           "Maschio"
          ],
          [
           "Femmina"
          ],
          [
           "Maschio"
          ],
          [
           "Femmina"
          ],
          [
           "Maschio"
          ],
          [
           "Maschio"
          ],
          [
           "Maschio"
          ],
          [
           "Maschio"
          ],
          [
           "Femmina"
          ],
          [
           "Femmina"
          ],
          [
           "Maschio"
          ],
          [
           "Femmina"
          ],
          [
           "Maschio"
          ],
          [
           "Maschio"
          ],
          [
           "Femmina"
          ],
          [
           "Maschio"
          ],
          [
           "Maschio"
          ],
          [
           "Femmina"
          ],
          [
           "Maschio"
          ],
          [
           "Maschio"
          ],
          [
           "Maschio"
          ],
          [
           "Maschio"
          ],
          [
           "Femmina"
          ],
          [
           "Femmina"
          ],
          [
           "Femmina"
          ],
          [
           "Maschio"
          ],
          [
           "Maschio"
          ],
          [
           "Femmina"
          ],
          [
           "Maschio"
          ],
          [
           "Maschio"
          ],
          [
           "Maschio"
          ],
          [
           "Maschio"
          ],
          [
           "Femmina"
          ],
          [
           "Femmina"
          ],
          [
           "Femmina"
          ],
          [
           "Maschio"
          ],
          [
           "Femmina"
          ],
          [
           "Femmina"
          ],
          [
           "Maschio"
          ],
          [
           "Maschio"
          ],
          [
           "Femmina"
          ],
          [
           "Femmina"
          ],
          [
           "Femmina"
          ],
          [
           "Femmina"
          ],
          [
           "Maschio"
          ],
          [
           "Femmina"
          ],
          [
           "Femmina"
          ],
          [
           "Maschio"
          ],
          [
           "Femmina"
          ],
          [
           "Maschio"
          ],
          [
           "Maschio"
          ]
         ],
         "hovertemplate": "Età=%{x}<br>Punteggio=%{y}<br>Genere=%{customdata[0]}<br>Reddito=%{marker.color}<extra></extra>",
         "legendgroup": "",
         "marker": {
          "color": [
           52915.76452366004,
           44702.505607839674,
           55077.25765192536,
           45568.97884791456,
           52526.91464404421,
           69763.9630341194,
           34901.86152080538,
           67098.17841693568,
           69756.72601009798,
           48228.97209513382,
           18172.17651487108,
           40882.670193583515,
           69454.91819841664,
           49656.97906551677,
           35010.466515576336,
           42428.376181576736,
           62609.300397568295,
           58201.00352302069,
           46416.01851245458,
           44497.63382277969,
           44123.62776434267,
           36163.84723252246,
           74230.63534204163,
           45165.192961829904,
           68257.37781238244,
           72819.74077883677,
           64974.66347221941,
           43525.695309229275,
           56055.95135504914,
           49637.06590413626,
           36444.47208904808,
           54865.389225824045,
           32314.40313260296,
           67815.19082692346,
           43030.7405405241,
           53017.39483809259,
           54249.31807319213,
           46116.42539443884,
           58800.40702212912,
           42876.44515066213,
           63069.45946185866,
           29810.304796298773,
           51895.693693196175,
           79083.93498587428,
           34995.03013091638,
           39833.82544212723,
           57708.617744883726,
           52693.72672909397,
           55259.45148910339,
           57337.80695221495,
           59520.82202842655,
           66645.49762934334,
           56147.279853927685,
           46381.13518072186,
           60088.60551804097,
           78498.22902342823,
           48010.493804261394,
           35382.06042994038,
           66606.2100393046,
           48194.282540696026,
           17409.95680978946,
           62711.325157256324,
           41970.07721069116,
           48642.00076543759,
           54979.70495853522,
           52857.495196685995,
           60641.77725708559,
           43467.70444145235,
           57696.58697264124,
           46106.79983624124,
           61082.157213312545,
           59230.5122601958,
           35968.41946933107,
           66289.73174262549,
           41960.54832328928,
           62120.86697421718,
           55509.30970102011,
           77572.75515192683,
           46648.01026442222,
           44760.24805822704,
           49708.70591168401,
           45452.303257485866,
           61999.12852913075,
           25755.34087345118,
           34194.76371280469,
           33982.9561763121,
           64254.61387960364,
           75659.20058872888,
           48433.261721937924,
           47467.67415214984,
           51050.78244669772,
           67428.17453912286,
           36089.70298714139,
           53575.53474102178,
           64627.96444673645,
           57516.41254909768,
           52843.724248981154,
           65015.69138850712,
           9451.515605011446,
           60168.12979296361,
           40188.864753088645,
           22540.506547153145,
           57668.03899287471,
           70604.87817744436,
           47938.27228058462,
           64293.118208044085,
           74184.17386982968,
           69723.7168037607,
           74599.46794057089,
           61131.91236607838,
           51131.50458352389,
           25970.512821542474,
           46309.062678050774,
           37351.30107025713,
           82564.1407624672,
           47361.712813514954,
           51848.072101767284,
           58272.280640607016,
           50654.03669558681,
           75425.7656064613,
           40660.25957398322,
           52919.11182855864,
           38862.94121452927,
           30199.662331689415,
           40823.46363642072,
           49444.44804427382,
           43560.4666322411,
           39613.68530189216,
           28905.23804492249,
           48753.41641056958,
           27429.194389534965,
           61400.83945534404,
           51236.59629401755,
           28136.72750802604,
           45361.863844252046,
           38717.65391614125,
           54787.61765628771,
           70106.75669034716,
           21872.41295531383,
           51725.39118721126,
           47598.00806650039,
           60070.101146756984,
           53197.94942356534,
           38720.460023917716,
           45214.19096500073,
           38059.612147947664,
           66140.10707897898,
           50319.67473007913,
           78517.86028629511,
           49090.08779278069,
           39373.898496343056,
           27294.28411080759,
           22952.904856160825,
           26237.960854917652,
           54006.89976517225,
           57630.87534844901,
           26282.139469518,
           63425.57471114173,
           42754.08422474841,
           52201.89517978324,
           74183.30942383136,
           63452.58973798298,
           45972.04028141251,
           36632.11661877069,
           17722.768980060428,
           39212.7002113637,
           46833.046417584585,
           35192.30709273224,
           48031.145493615426,
           51152.77824438152,
           46627.16027287882,
           40249.961287648104,
           52529.82007950092,
           56629.109743541136,
           33644.01383835731,
           71163.98569619405,
           48521.17801573608,
           50282.744344172716,
           60623.21634884836,
           53498.24196895253,
           64297.04950869868,
           54306.86247802736,
           40813.43938039343,
           55422.55287809153,
           32844.10689019007,
           51628.39558664785,
           49501.550140333085,
           46878.2471409119,
           48071.93732841604,
           21772.264317535413,
           41769.12638388558,
           51392.673517116724,
           52397.84587996101,
           34584.87288611063,
           68985.61761297051,
           37007.377276782485,
           64541.85800790105,
           56407.91542807527,
           40306.59035234295,
           76629.66338914268,
           32095.447523652798,
           63787.31260415002,
           65008.734770644674,
           39940.69686385033,
           70886.97950096492,
           46249.302281015705,
           54330.40443919785,
           53904.82758156831,
           47985.368877941786,
           62162.124097396736,
           61902.33080828319,
           23772.02040142729,
           69565.10364317229,
           25062.620179464884,
           65488.19306512486,
           66900.57705241375,
           33635.50354677203,
           43837.78568068123,
           33414.42997271096,
           46776.18454566897,
           45379.48573721388,
           61694.907984040095,
           69654.63119179412,
           70935.25716184934,
           41567.47960132547,
           46861.671893832085,
           24748.427116685747,
           37911.94900255717,
           64472.77449646186,
           74233.74235322347,
           31484.76692180117,
           41113.036112706584,
           49603.91364561609,
           54202.4173822941,
           37855.94720117531,
           56360.915666961344,
           42892.409793936255,
           49783.215936825814,
           58194.26372005549,
           50096.33404716407,
           43454.21164210147,
           48355.852941112535,
           48674.55561191997,
           44449.83455176809,
           46118.059059993466,
           73979.70755757076,
           58413.791719118584,
           45567.795229562595,
           60454.316067661035,
           44992.70765365985,
           67596.86956379961,
           55544.63288297141,
           48390.467839936566,
           56715.75388715416,
           26436.85771897251,
           33098.48796635292,
           32091.12490401417,
           52144.1464214556,
           75987.72499227637,
           83469.50219288949,
           59570.76652161136,
           57512.66712416685,
           22984.133987708916,
           41859.89300398967,
           38183.24372137642,
           40687.28602623326,
           47477.84272122815,
           42918.64133454309,
           20310.502844363185,
           61218.65384176301,
           33908.854613902906,
           53588.702961667244,
           81111.2400462496,
           36209.23112620365,
           12045.687158805056,
           45709.936671798336,
           66514.39452497856,
           79375.21181330891,
           31556.756083213746,
           57450.48834854783,
           43020.3431482992,
           48410.774685437966,
           89665.15020525552,
           27455.4450740727,
           53806.094922418604,
           57015.3975764815,
           66286.7948740902,
           51469.747302063435,
           54620.75809256153,
           44125.271488673134,
           54036.90411867661,
           44852.11586753884,
           59323.57834784076,
           44455.84495934549,
           55656.505908532796,
           49561.057794725326,
           66890.75376158251,
           49229.094146172705,
           23404.512976896778,
           68928.82251070987,
           36414.015487060715,
           40193.504920267704,
           41065.08058934762,
           70616.57139756226,
           17964.886790319568,
           97066.22800489991,
           65840.85213599078,
           53348.5837119374,
           49176.5899907557,
           54283.311122864856,
           57816.836425690075,
           59678.23378925085,
           58334.066990051724,
           51343.71021882873,
           47039.923695390105,
           47730.90074519732,
           47076.375794709784,
           67006.55145300596,
           58903.35083421293,
           5894.170480035798,
           59838.51164794641,
           52921.04292078162,
           49719.36865331154,
           44172.22320366671,
           66861.6907997902,
           64212.89693184287,
           38406.834982645865,
           56105.78430686802,
           35425.14898188071,
           29305.727528166044,
           40599.24163115052,
           62935.902085741385,
           64296.8756806413,
           57696.28130145939,
           60876.43680271995,
           57742.67430672437,
           40377.77607165572,
           56478.83817010911,
           62006.14287841524,
           61314.36994720361,
           67833.70057211965,
           60624.55770801596,
           55271.72311312374,
           66052.25357474641,
           49602.1811112641,
           36771.88023158423,
           47553.99554084354,
           38826.46032790326,
           39872.325875384275,
           47832.219939267234,
           38113.70118500058,
           45380.5770554144,
           21595.779995693214,
           53199.405610594076,
           50018.082130433366,
           37743.67053397714,
           59888.68502648608,
           64063.55206439838,
           25886.602034465388,
           38559.12832150679,
           38462.86475319053,
           35901.45348336703,
           62442.12262897623,
           47092.60791840795,
           46032.27738034084,
           19942.064533898698,
           59531.27045313839,
           31411.12407719791,
           50898.989453994924,
           54160.654069372875,
           70409.87893757976,
           30367.69401321332,
           4707.317662687623,
           52757.743171305425,
           77007.66772266281,
           68584.19529409157,
           53144.891229119385,
           42625.45721551929,
           62106.83894955966,
           35396.80700443297,
           57145.36654034329,
           57582.0523874994,
           65903.1486124832,
           91394.90058366617,
           55886.23950768151,
           42365.54561438752,
           49616.38531712008,
           23463.861426663225,
           39579.303033664124,
           43860.76342830344,
           42138.674030981114,
           52285.32308050583,
           37663.70101426699,
           66815.46000986706,
           50003.10597377296,
           49860.495182920786,
           45081.579252306234,
           52327.860257884684,
           62376.47397001452,
           36993.0467643365,
           40128.25266387115,
           45444.10956835003,
           29811.936147901775,
           37711.13210417754,
           42856.68689683011,
           63115.83771069092,
           53938.419935028876,
           52903.848670513165,
           62763.46943251958,
           47939.42317400905,
           55856.972748933345,
           48451.67370601256,
           53980.435240994426,
           41258.62013582627,
           13417.742625853563,
           47985.81256720544,
           71341.2220414991,
           63893.23103362389,
           64480.96226886756,
           68541.96082709327,
           51329.86386442156,
           52959.73561108393,
           40735.22156848475,
           45258.90715959425,
           59236.56724656712,
           68058.26655753225,
           47908.305864785005,
           43247.16102722882,
           50007.91938284896,
           59018.10123393672,
           28342.177757996873,
           15557.28570294143,
           41741.94725762625,
           31689.31361128762,
           42377.897035290334,
           47783.29521773793,
           43201.2738646548,
           71787.01301706118,
           54901.1714690348,
           54507.11539416242,
           59333.10716065103,
           32917.50323328846,
           65586.67681130403,
           48863.5357019681,
           60057.20925861819,
           33922.14150439767,
           26693.618509759035,
           62268.344870375426,
           55646.14289146275,
           36469.226684637346,
           36955.053780879585,
           66881.52176622154,
           32158.82160699008,
           74640.09429883945,
           36490.68898028197,
           59575.87888412575,
           45070.72286376523,
           59047.81146623514,
           41838.289968287114,
           47558.106408915584,
           50613.78763093582,
           34967.18816327791,
           61112.36518130189,
           42301.79650292622,
           46571.00126989972,
           35084.75938087232,
           11564.995118070343,
           47134.58356099747,
           86189.23132419374,
           61769.06431847036,
           49711.09430398408,
           46056.637561875985,
           50336.9883921807,
           58206.78672762815,
           32287.807770367326,
           66714.82542003308,
           60730.719731618665,
           60772.785885619014,
           56577.13608214591,
           50294.249865409845,
           60092.918539502294,
           58877.212006120666,
           44689.38933588464,
           41395.97340654649,
           51527.8444289298,
           73235.30227242781,
           31413.393865191487,
           27987.1210137134,
           52471.41261854775,
           50763.31552784027,
           52600.124965556126,
           53659.29796862751,
           46651.966180477924,
           72347.95157903123,
           25986.440322852268,
           37572.54462829631,
           48451.17859776429,
           25352.16783268749,
           47362.18393351893,
           74922.05248592027,
           50313.29732443942,
           53460.51358578025,
           31097.528522411296,
           40754.57887940784,
           44372.054295140944,
           45234.27354865649,
           69224.65692505654,
           58365.36591087687,
           33328.13064594452,
           53697.571676480075,
           57473.32622745178,
           67102.235577819,
           73708.1102985256,
           34773.58712258197,
           37837.137331844926,
           31136.332116280755,
           46489.70211339528,
           56995.37561669502,
           64810.01774883653,
           48860.73464536216,
           45202.28715117734,
           52276.3698837311,
           37472.856475549655,
           81343.08082542161,
           25885.08459322912,
           52771.108683435865,
           80354.0932884446,
           50101.99766839996,
           47149.41447497758,
           44638.31865784359,
           47294.12477356388,
           70592.72712014796,
           16822.0713300574,
           73001.50551944488,
           28640.642713247824,
           46000.21506148378,
           43561.33369552007,
           58828.299046560795,
           26028.134721743787,
           56932.58999122914,
           80364.64434930279,
           29552.389931107842,
           52845.592514155935,
           40070.26733305086,
           56388.30809289554,
           50287.21666123628,
           40377.69636433535,
           57318.08427306611,
           77065.22164680115,
           47136.44312409052,
           60796.369132222724,
           30600.905631932543,
           35653.45434772987,
           57086.09416820566,
           72261.74042803947,
           55334.2002317849,
           45304.12954215269,
           49989.37108135031,
           31243.883990454236,
           59067.7298953305,
           63234.99593485113,
           43218.645007503794,
           42949.36778360748,
           53988.173444780725,
           43449.20395939107,
           49008.01078061266,
           81495.82683749773,
           46294.61448881005,
           44624.89771968167,
           40286.87291547261,
           61162.87957249905,
           47281.637401728454,
           40259.40442517861,
           69819.56048409519,
           71294.04506770456,
           40993.64651391942,
           22001.900729590758,
           65112.705347553834,
           39730.55261359994,
           61859.38398744153,
           20448.442734322467,
           63388.96007448964,
           31832.42106078828,
           60961.46178599787,
           50214.096017546515,
           35690.90870905033,
           43894.455306098294,
           60294.77685435051,
           51588.41679672851,
           58766.19470708726,
           79646.60876773228,
           26536.37582433423,
           74258.18862452936,
           51565.339062848194,
           36518.23927515308,
           30045.295613915154,
           47163.1941383445,
           63824.75167886689,
           48086.763194336985,
           72667.3239537102,
           28232.364649226616,
           49818.66578230918,
           31214.098333803213,
           55454.47823937452,
           63303.31085145951,
           43688.5730947842,
           10936.792150592984,
           52984.22220194742,
           56551.07827600264,
           56064.421324425464,
           68536.73287733231,
           33934.19480526427,
           60203.24158175674,
           67887.61268716963,
           23321.186239902247,
           54794.777388784656,
           42437.302534884926,
           48777.15990347531,
           55215.14725307505,
           42691.57153829672,
           39864.37881257582,
           50512.28626232037,
           33691.31091705796,
           33712.62306672222,
           60190.59924434755,
           32768.08947262016,
           59994.68751363818,
           56938.86939280927,
           24112.89906814105,
           39836.530214965176,
           67911.6410457106,
           35282.517032904776,
           43033.93606535919,
           56930.913398778444,
           61750.85763923893,
           46226.91670933257,
           41037.347079625375,
           71335.54792547761,
           76083.49495696368,
           64682.87076172693,
           51279.77213847536,
           37876.0141753861,
           37543.333901651524,
           57837.71157898636,
           56275.97331333026,
           71023.97889419644,
           59756.75138804209,
           27453.79547360273,
           65779.21426584378,
           35029.090590283806,
           44240.43092071472,
           53753.00309377542,
           79935.01234675947,
           96648.7783400804,
           59100.84588704274,
           47252.05071919418,
           58017.584727208254,
           63314.831388107545,
           45189.98561664212,
           76928.17033868484,
           53451.06138787103,
           57466.14633637091,
           59988.86378081692,
           56323.79915921683,
           62584.10750704419,
           40741.20220179615,
           41625.473690809544,
           33497.68650542457,
           56592.51845930339,
           61684.04755268171,
           56866.59299227829,
           75117.38650021306,
           49916.059717564305,
           60031.12483388769,
           33624.486857910284,
           44193.50446288398,
           60433.066363486665,
           62736.531661147164,
           45590.49578503727,
           48926.011222129,
           27231.89379978786,
           44644.56198790086,
           63355.74745279679,
           58628.07524159849,
           57509.985820718146,
           50746.6053077144,
           50105.94737942264,
           40095.18290789829,
           60482.426303038024,
           56314.59416584085,
           57380.28271989199,
           42109.4773599863,
           17699.856201931336,
           66457.29067630543,
           42817.438159873935,
           37058.36353935319,
           60402.1836787099,
           44119.81040121306,
           65899.04576069933,
           59255.089243650466,
           60253.53984800716,
           29510.664331991986,
           68179.159780796,
           53918.75796850784,
           44460.84291130695,
           52150.82701013377,
           23356.471506525202,
           56129.792172210065,
           34559.42737726893,
           29709.945712346984,
           27164.612206731632,
           66690.32562484888,
           40561.04909460817,
           73005.91564874748,
           41962.978054215535,
           24389.630636105798,
           33252.13340077011,
           68537.17430010409,
           47661.52733094999,
           41775.69055264098,
           52400.273387791814,
           57526.741042513175,
           66760.9822385369,
           71727.4884483939,
           44603.470313163714,
           30109.284708769424,
           43798.02258315086,
           53904.20759874329,
           35543.61610684084,
           35642.73627657436,
           55156.81822324828,
           49270.214726443235,
           50491.9549311738,
           38622.569979498956,
           46543.98928691349,
           36136.502835975436,
           63352.9761668718,
           65528.74002085629,
           22307.18206642859,
           36057.33709711385,
           27552.061173648814,
           40249.64098389653,
           48748.43045314459,
           28255.321704522048,
           36172.1028031203,
           34940.63941877752,
           53109.00994098416,
           51040.16505554376,
           39173.9366999412,
           52652.31308209097,
           41799.79873119102,
           45925.1733451092,
           75101.78135447805,
           70106.91577685522,
           30506.281446086035,
           62445.98626818762,
           62170.948317373884,
           32776.050668710726,
           62281.66465632291,
           73068.97877618829,
           33161.82790633379,
           36237.457684786044,
           65264.922002652536,
           54072.42966238472,
           58272.144128592845,
           55108.83824600745,
           55860.43881392216,
           30102.918075333757,
           65709.76559932172,
           67543.8498864166,
           46559.13883897958,
           49347.84575279206,
           27033.387461664166,
           57713.821340267525,
           58580.86162571216,
           49067.134745010335,
           66865.30039805754,
           44988.84153530089,
           58469.088888404,
           34705.034919618265,
           49646.71773688643,
           47384.68613145746,
           53379.61883061413,
           44457.096067499624,
           48027.911064924985,
           62390.707571622595,
           43448.53644142674,
           25901.34348891981,
           76243.75856308131,
           70721.8111803573,
           30616.05957341572,
           60345.61707867791,
           42455.37844172985,
           53952.30822996589,
           54413.3619352024,
           46483.88299525517,
           38243.51501620405,
           39641.88421525611,
           36257.12126778136,
           37522.66687654333,
           48992.32564925967,
           39263.60016333872,
           60230.7809856893,
           72308.6923300389,
           41299.201379449354,
           53591.067508030654,
           57495.27665454401,
           57080.03406378911,
           51139.32901874131,
           61140.23627539584,
           57233.73429020986,
           31435.063665090533,
           63037.340965839096,
           63309.36255900113,
           38550.70843732128,
           50569.067531714034,
           60249.93489216604,
           46860.29270630958,
           66094.67071649017,
           85458.08741929042,
           38210.209510475266,
           29284.330952693377,
           54557.27893407314,
           60823.43757689215,
           46537.00439232847,
           71798.90994981551,
           29920.91300415127,
           60393.77934547416,
           40912.0876886166,
           75790.66859310945,
           79887.73029752178,
           38500.15118324978,
           41756.6429613713,
           62893.81830469703,
           44193.04025315728,
           49318.83173101643,
           50380.82630813615,
           21204.902657035156,
           49792.433808586444,
           39654.08338903739,
           42603.15766400342,
           71654.48005203222,
           31152.396585811155,
           62198.07780121966,
           45815.55604502287,
           45803.597472562484,
           61855.57844077567,
           55100.76941853335,
           58559.19495829297,
           64522.769907992915,
           45030.374252250156,
           40816.44898238374,
           33722.742101633026,
           37618.842050315674,
           94236.41637963089,
           68670.1937110518,
           29733.88450687968,
           30163.130648846447,
           57227.99092577737,
           58208.97196066951,
           58233.25752976046,
           46175.66309669453,
           48118.186099956496,
           54918.19286239036,
           51288.39509439996,
           16710.494408786974,
           46553.00554137209,
           37228.903486095296,
           52628.17128362768,
           94778.88503905115,
           55512.22498211457,
           45297.054707414034,
           63827.02252965878,
           57240.31830813819,
           56301.417356777616,
           59102.758898235064,
           80848.15347244313,
           33036.673470111265,
           57104.481152171815,
           36104.28305027692,
           58332.689695133726,
           36219.70232770858,
           43739.49779592374,
           45573.651286431406,
           64637.250790170634,
           63776.81665913621,
           31314.239353304234,
           50824.01166499773,
           39356.30217876241,
           31122.42633986998,
           46744.74424363444,
           45372.75817316271,
           86400.74729518284,
           56494.397380410446,
           29335.73748868644,
           41528.389937435866,
           65320.74943144098,
           81326.64159304887,
           26210.250316430625,
           21801.134222914323,
           78064.47763057673,
           55844.21266056356,
           36975.6090218545,
           58019.43629183653,
           10463.783914746833,
           50050.63259895742,
           54917.31759264628,
           63864.05209306745,
           34791.56071561194,
           51285.307421050384,
           36118.63060910619,
           53830.756335114755,
           36569.80516455464,
           43878.48741259669,
           35062.769078146564,
           59767.043627354855,
           62876.76674984998,
           46480.69145063879,
           50573.56992440043,
           28271.128780496838,
           45504.85027989819,
           49246.93074437383,
           89311.89636544962,
           33320.49461338755,
           71962.65858128657,
           64952.881601987116,
           54209.54606735204,
           76379.307262927,
           55581.58208910294,
           55837.38793501893,
           49203.19020473682,
           68353.53323627941,
           66447.03850716326,
           40614.84068755682,
           30211.292081018488,
           46955.290439065146,
           37999.421534035304,
           49047.13138076967,
           68561.57202026209,
           43140.47517369815,
           49357.649280326375,
           50870.341022125926,
           62726.46323307927,
           16296.659990230924,
           40899.49557852055,
           53169.25538419209,
           68001.18434640292,
           42621.46328740692,
           21851.709409371888,
           59295.67168949205,
           40469.56416761556,
           32155.00011364458,
           40634.81915430164,
           47232.11963516226,
           40928.83003192681,
           16916.509143513962,
           63455.99295330698,
           69123.12561918084,
           59772.82987009259,
           32934.714943627754,
           46977.626990787234,
           49902.18027155813,
           58981.91584342865,
           60025.107330771214,
           38987.39301832256,
           51229.933346203405,
           56859.20606922862,
           71837.3348322015,
           60567.59809737085,
           61835.850310632784,
           51257.39941894041,
           71156.88717805257,
           56146.44193939246,
           37083.68134739644,
           71050.54955187786,
           60468.54908808541,
           43354.339683072765,
           42807.60548901135,
           54448.63317711143,
           56947.77192901377,
           52959.3839844681,
           54669.63010164327,
           75499.3606186457,
           66073.14728352329,
           52859.53386897536,
           64119.65871151225,
           34512.141447086906,
           55968.90574920213,
           77139.59524599665,
           46729.31156911439,
           37285.49107071373,
           40218.66667110409,
           33655.50443986418,
           38228.57137808445,
           44442.37852114956,
           28916.49471232037,
           50234.27500924405,
           63534.15760679971,
           36383.65729779619,
           72789.25885462653
          ],
          "coloraxis": "coloraxis",
          "symbol": "circle"
         },
         "mode": "markers",
         "name": "",
         "orientation": "v",
         "showlegend": false,
         "type": "scatter",
         "x": [
          56,
          69,
          46,
          32,
          60,
          25,
          38,
          56,
          36,
          40,
          28,
          28,
          41,
          53,
          57,
          41,
          20,
          39,
          19,
          41,
          61,
          47,
          55,
          19,
          38,
          50,
          29,
          39,
          61,
          42,
          66,
          44,
          59,
          45,
          33,
          32,
          64,
          68,
          61,
          69,
          20,
          54,
          68,
          24,
          38,
          26,
          56,
          35,
          21,
          42,
          31,
          67,
          26,
          43,
          19,
          37,
          45,
          64,
          24,
          61,
          25,
          64,
          52,
          31,
          34,
          53,
          67,
          57,
          21,
          19,
          23,
          59,
          21,
          46,
          35,
          43,
          61,
          51,
          27,
          53,
          31,
          48,
          65,
          32,
          25,
          31,
          40,
          57,
          38,
          33,
          62,
          35,
          64,
          41,
          43,
          42,
          62,
          58,
          46,
          32,
          62,
          18,
          42,
          24,
          26,
          41,
          18,
          61,
          25,
          41,
          28,
          68,
          34,
          25,
          52,
          52,
          50,
          22,
          59,
          56,
          58,
          45,
          24,
          26,
          25,
          29,
          51,
          50,
          65,
          40,
          41,
          54,
          52,
          61,
          57,
          39,
          44,
          52,
          18,
          52,
          54,
          64,
          31,
          20,
          18,
          22,
          43,
          31,
          56,
          44,
          26,
          32,
          32,
          43,
          59,
          30,
          68,
          49,
          56,
          66,
          69,
          49,
          21,
          47,
          54,
          40,
          56,
          62,
          32,
          60,
          46,
          53,
          30,
          49,
          24,
          68,
          39,
          45,
          19,
          59,
          62,
          23,
          45,
          45,
          61,
          61,
          37,
          47,
          28,
          45,
          42,
          56,
          50,
          18,
          44,
          69,
          30,
          58,
          20,
          56,
          23,
          25,
          44,
          26,
          54,
          50,
          68,
          59,
          61,
          41,
          32,
          49,
          49,
          41,
          58,
          69,
          66,
          66,
          69,
          29,
          56,
          19,
          20,
          66,
          54,
          66,
          34,
          66,
          19,
          19,
          45,
          40,
          54,
          49,
          50,
          18,
          36,
          19,
          61,
          43,
          49,
          23,
          49,
          21,
          28,
          34,
          55,
          41,
          22,
          69,
          51,
          23,
          39,
          28,
          65,
          33,
          50,
          26,
          23,
          33,
          46,
          20,
          37,
          53,
          36,
          43,
          20,
          36,
          37,
          49,
          24,
          69,
          58,
          50,
          57,
          56,
          35,
          57,
          18,
          28,
          45,
          42,
          67,
          40,
          48,
          47,
          59,
          52,
          24,
          33,
          43,
          65,
          69,
          66,
          19,
          18,
          65,
          29,
          22,
          54,
          49,
          26,
          58,
          52,
          36,
          65,
          33,
          20,
          37,
          41,
          50,
          41,
          69,
          28,
          66,
          25,
          53,
          55,
          57,
          37,
          52,
          65,
          42,
          52,
          42,
          46,
          35,
          63,
          35,
          19,
          52,
          33,
          58,
          53,
          50,
          21,
          50,
          31,
          38,
          65,
          37,
          25,
          24,
          20,
          34,
          50,
          65,
          29,
          68,
          39,
          39,
          63,
          47,
          55,
          55,
          62,
          68,
          25,
          44,
          44,
          51,
          38,
          47,
          50,
          45,
          64,
          50,
          22,
          65,
          36,
          21,
          52,
          66,
          34,
          61,
          45,
          47,
          46,
          63,
          23,
          52,
          58,
          54,
          41,
          46,
          66,
          63,
          48,
          52,
          50,
          69,
          38,
          49,
          40,
          50,
          20,
          35,
          42,
          59,
          48,
          20,
          57,
          63,
          41,
          67,
          49,
          64,
          39,
          40,
          19,
          44,
          59,
          19,
          43,
          34,
          57,
          50,
          26,
          60,
          65,
          56,
          46,
          59,
          43,
          52,
          67,
          42,
          41,
          30,
          24,
          53,
          62,
          37,
          18,
          25,
          63,
          33,
          31,
          29,
          68,
          40,
          32,
          45,
          51,
          19,
          49,
          40,
          39,
          68,
          42,
          39,
          39,
          66,
          69,
          59,
          23,
          32,
          60,
          54,
          50,
          25,
          61,
          61,
          22,
          56,
          21,
          23,
          62,
          49,
          69,
          47,
          64,
          52,
          57,
          69,
          33,
          30,
          67,
          59,
          47,
          36,
          34,
          36,
          45,
          43,
          54,
          43,
          40,
          26,
          29,
          18,
          18,
          64,
          51,
          49,
          65,
          42,
          57,
          62,
          18,
          33,
          56,
          22,
          39,
          46,
          20,
          29,
          43,
          33,
          68,
          54,
          39,
          46,
          31,
          45,
          22,
          64,
          66,
          47,
          63,
          69,
          22,
          29,
          33,
          43,
          43,
          65,
          38,
          56,
          53,
          50,
          47,
          54,
          40,
          27,
          22,
          53,
          51,
          69,
          48,
          27,
          36,
          49,
          18,
          22,
          62,
          21,
          33,
          41,
          33,
          19,
          66,
          45,
          49,
          44,
          37,
          41,
          29,
          67,
          52,
          50,
          50,
          68,
          60,
          54,
          29,
          20,
          18,
          50,
          57,
          27,
          60,
          61,
          46,
          30,
          29,
          48,
          63,
          19,
          68,
          67,
          52,
          40,
          34,
          43,
          25,
          46,
          43,
          27,
          43,
          51,
          68,
          58,
          24,
          21,
          67,
          62,
          28,
          46,
          53,
          42,
          38,
          53,
          27,
          54,
          26,
          41,
          52,
          66,
          52,
          65,
          53,
          35,
          66,
          56,
          49,
          41,
          40,
          49,
          54,
          29,
          66,
          30,
          40,
          42,
          52,
          58,
          47,
          34,
          66,
          37,
          65,
          42,
          39,
          30,
          36,
          66,
          53,
          29,
          58,
          36,
          29,
          26,
          24,
          45,
          31,
          48,
          69,
          36,
          64,
          33,
          22,
          52,
          29,
          42,
          69,
          38,
          53,
          40,
          33,
          56,
          62,
          59,
          56,
          31,
          48,
          22,
          52,
          40,
          46,
          60,
          28,
          35,
          64,
          29,
          26,
          27,
          61,
          34,
          55,
          24,
          63,
          30,
          57,
          59,
          26,
          67,
          44,
          19,
          22,
          46,
          54,
          55,
          36,
          25,
          65,
          62,
          18,
          39,
          69,
          34,
          24,
          42,
          62,
          21,
          53,
          23,
          48,
          36,
          61,
          56,
          44,
          27,
          43,
          36,
          56,
          20,
          62,
          30,
          67,
          45,
          37,
          45,
          25,
          58,
          56,
          18,
          20,
          30,
          45,
          66,
          42,
          50,
          55,
          23,
          61,
          62,
          49,
          62,
          64,
          38,
          33,
          38,
          28,
          54,
          53,
          52,
          36,
          37,
          35,
          64,
          58,
          66,
          31,
          32,
          48,
          18,
          20,
          33,
          40,
          28,
          29,
          27,
          49,
          33,
          25,
          55,
          29,
          41,
          45,
          25,
          45,
          53,
          43,
          25,
          67,
          45,
          45,
          54,
          58,
          53,
          44,
          34,
          26,
          50,
          37,
          30,
          45,
          65,
          46,
          30,
          63,
          52,
          23,
          35,
          68,
          22,
          64,
          42,
          19,
          27,
          47,
          67,
          62,
          22,
          50,
          18,
          35,
          49,
          64,
          66,
          28,
          38,
          43,
          42,
          39,
          44,
          66,
          30,
          50,
          51,
          58,
          52,
          18,
          38,
          65,
          23,
          45,
          34,
          22,
          48,
          22,
          55,
          20,
          40,
          54,
          54,
          27,
          27,
          36,
          34,
          38,
          31,
          26,
          63,
          18,
          68,
          62,
          30,
          21,
          18,
          66,
          57,
          49,
          51,
          45,
          48,
          25,
          56,
          43,
          51,
          20,
          67,
          29,
          18,
          61,
          22,
          47,
          47,
          34,
          65,
          64,
          40,
          32,
          54,
          38,
          31,
          19,
          28,
          68,
          56,
          55,
          51,
          55,
          67,
          51,
          35,
          47,
          32,
          44,
          68,
          51,
          69,
          55,
          50,
          41,
          32,
          47,
          59,
          68,
          34,
          22,
          46,
          21,
          27,
          34,
          27,
          34,
          37,
          41,
          22,
          51,
          23,
          19,
          30,
          60,
          60,
          65,
          28,
          68,
          64,
          40,
          33,
          48,
          28,
          33,
          25,
          21,
          57,
          21,
          42,
          20,
          49,
          20,
          44,
          46,
          49,
          67,
          68,
          36,
          38,
          22,
          35,
          45,
          59,
          39,
          38,
          23,
          18,
          22,
          58,
          29,
          43,
          63,
          51,
          66,
          31,
          43,
          62,
          44,
          26,
          43,
          64,
          39,
          64,
          47,
          60,
          65,
          34,
          43,
          53,
          18,
          25,
          66,
          52,
          69,
          32,
          64,
          39,
          31,
          43,
          45,
          40,
          31,
          41,
          19,
          62,
          43,
          31,
          68,
          24,
          20,
          64,
          40,
          63,
          60,
          64,
          62,
          35,
          55
         ],
         "xaxis": "x",
         "y": [
          85.12069140487687,
          49.51465270139743,
          48.0586577326648,
          59.24077846595176,
          82.46809659251491,
          34.780920790219305,
          67.80161525590636,
          56.5731963995791,
          26.70282701694213,
          87.8629986355158,
          79.74260216069281,
          65.84518346584255,
          85.05817290942419,
          86.72942009598023,
          70.83629767150347,
          83.7013328363672,
          69.74714616692836,
          68.01407717603004,
          61.86113782151843,
          75.27166395576413,
          15.86051052930737,
          88.08707591989284,
          87.1843527745232,
          2.9247283034559146,
          82.58167505647627,
          12.886986747344519,
          33.51188542591419,
          74.35082562916078,
          16.07598960483082,
          81.79670241190622,
          83.21341779577419,
          50.746773376083624,
          0.638587171683358,
          28.703813317491278,
          61.69269183757422,
          98.11861780274235,
          63.18135270166684,
          25.98035810641598,
          63.40057030996113,
          53.99853797158555,
          77.98453951511436,
          10.698063882695841,
          76.1027902502028,
          54.12665786761103,
          96.29920038589947,
          34.187216603868606,
          63.26218931339481,
          93.20281055100175,
          10.250972799067926,
          93.72284872364511,
          68.78857223008133,
          6.78370591051719,
          30.096356694681624,
          70.81720886452815,
          6.73506014687717,
          58.217046017627325,
          34.588305695295674,
          62.091551776747714,
          4.5742033812512854,
          87.15368061523763,
          97.3488969177397,
          96.88778552856915,
          74.96518317429248,
          13.008624013063198,
          75.82631959290225,
          2.458691645880151,
          2.2123551528997254,
          32.36102191495412,
          48.864319040466576,
          77.04074178077931,
          68.32953766065052,
          44.590270637674834,
          27.362666628166586,
          99.71245001577111,
          42.6181302235973,
          45.13870243296755,
          16.362382119166917,
          79.48095487499293,
          69.36822257814886,
          22.07696127887604,
          8.238104561584269,
          68.0499302074713,
          65.45112142811352,
          27.32595269982093,
          95.08635622504103,
          15.105789178090024,
          43.23348010426019,
          94.36159201675989,
          41.97273169261223,
          63.85259476640856,
          39.75943979627943,
          27.421520234867003,
          98.39776479598282,
          40.9334006315043,
          89.40992036791344,
          22.995460589108617,
          21.31047040250833,
          3.113408288451136,
          65.1666825375885,
          36.852634372376116,
          86.4358249839637,
          47.32099066915572,
          96.81934279147217,
          18.552551570312115,
          86.86231679556109,
          77.65968527917417,
          77.0921844644052,
          84.47832281168877,
          76.10239909429988,
          62.62203216314154,
          13.124487768238758,
          3.2526179491251916,
          92.08478478156869,
          61.665031452073805,
          79.65372909761763,
          48.152235151255006,
          11.730818896239448,
          12.518579220255043,
          68.55652872289714,
          43.030589489946266,
          20.052472670033673,
          49.15945467414369,
          6.420893707513409,
          58.19714019143988,
          26.899340443509768,
          79.75591006371882,
          31.036195892357377,
          45.52201490818012,
          1.1620539908100636,
          7.244688779455888,
          39.24935564066848,
          47.99388347171235,
          60.00205481193037,
          29.166257870930323,
          69.49818861265426,
          86.01223971892045,
          77.98509888933498,
          3.9618825348357145,
          48.0506947257829,
          10.493017841817487,
          24.204501586252746,
          98.66625932671465,
          14.249554290151323,
          49.888815345135605,
          61.81557343181191,
          70.2464970544104,
          55.96486834869141,
          0.9770847419183659,
          32.64613082439919,
          51.771164338471145,
          8.786649914483336,
          35.06269312091808,
          3.3203108791366565,
          7.857849715502074,
          39.69232762015961,
          13.271575404306034,
          56.75408482615582,
          68.94649691372658,
          80.05866991090829,
          20.01502442448101,
          16.748258225906977,
          10.456784033440025,
          63.64302495436367,
          70.64757264869012,
          3.1586144825642037,
          93.62122462436898,
          5.1971283651472415,
          54.12963353010704,
          70.90605194509165,
          87.09691237460856,
          71.40869321324278,
          80.17280830697918,
          33.94501925428061,
          81.48251137465122,
          8.011484638467515,
          89.48166560605276,
          54.75923761537362,
          81.72977699624937,
          45.23182845183001,
          64.35776951965249,
          52.640266093611324,
          73.15895217553319,
          8.162998203058958,
          6.03520839905638,
          24.710323401014644,
          15.954468011318834,
          87.17835665922017,
          21.92139873580443,
          97.58652558191314,
          33.68957917711069,
          18.211791568869927,
          78.96985071424791,
          65.87077755008761,
          49.8195716453139,
          55.53635509376312,
          71.92017782722638,
          22.845474133129873,
          99.63339160567419,
          97.4793162146783,
          65.03256863469369,
          19.954245092914512,
          68.02282424312914,
          7.219840897917584,
          3.0652502205806065,
          25.76828885112137,
          46.26229567393163,
          86.82725054083805,
          72.7169069766308,
          74.2706521199981,
          42.54933344480754,
          34.59349925469629,
          37.10387629846027,
          98.76495637360578,
          4.010919141248248,
          86.70314961224486,
          57.86754085723934,
          43.86154191895905,
          72.52576604151365,
          48.666894142470284,
          87.34232380816606,
          90.07018640112585,
          42.17209268734554,
          27.682779723505156,
          59.23503285933622,
          91.2363345616691,
          21.066218900566657,
          62.296658356348274,
          63.156022009252055,
          73.3113022415281,
          13.15676851272598,
          71.58249646820886,
          90.9032520665641,
          17.968310887024195,
          23.754332492387764,
          97.13950940416396,
          18.097695270948975,
          85.4385093369579,
          49.227785644803475,
          24.723107440317705,
          87.07499012725114,
          44.53052550026655,
          51.48173539296902,
          35.92333693997657,
          59.29508514349274,
          16.352387258502276,
          39.10815366517607,
          96.94123223352875,
          25.813343270112753,
          65.67366645412922,
          32.51900642246949,
          77.34731256866006,
          13.087366071834982,
          96.98210450785447,
          45.37895413836392,
          23.605046334646396,
          7.349674733001265,
          16.975790508754073,
          51.977394855601766,
          33.70031764312863,
          82.88833658826094,
          43.08875236618059,
          24.871427258762992,
          61.714498660403,
          70.67772168854458,
          16.704190790094987,
          16.761921628831765,
          3.667142693354297,
          73.64020150656405,
          66.38045276218051,
          47.46308757498139,
          84.41704489691972,
          80.56701529500532,
          58.535436439675216,
          86.82712805132586,
          20.584121003676824,
          11.191961939772789,
          26.974961151698963,
          5.708685608931486,
          53.1169528001032,
          93.66056922949615,
          3.9343540668509647,
          12.21099140100268,
          45.21990282834353,
          93.38750175279048,
          31.61561049767505,
          50.723480868839246,
          4.15728590503921,
          14.834320096208886,
          98.66301229588468,
          96.51186964360456,
          0.49399809344096157,
          95.18117854232389,
          63.91199378155004,
          86.79182945200222,
          45.47398556338591,
          51.55960285792502,
          48.88465802569202,
          66.68642575461044,
          13.96512547563129,
          2.9973589872677953,
          30.79299415911909,
          70.46807627366466,
          20.185345212294838,
          67.34324333249174,
          96.99120461072704,
          9.39007157894184,
          67.26021182251263,
          44.375021930457116,
          86.81422543775054,
          17.71497894473859,
          69.26259522261645,
          83.81152896481102,
          94.46142194740233,
          68.32480282896458,
          49.71747640084273,
          61.78472402012139,
          86.89049844787182,
          57.060974663882966,
          3.038705969683686,
          93.09486955069778,
          68.95267510315611,
          67.65133857772466,
          21.567515239771716,
          65.88854702326572,
          39.386440565415846,
          65.12329770414921,
          10.659303030799073,
          65.7845304603036,
          99.94137257706666,
          4.821203886055603,
          97.71741842213173,
          40.690796072287064,
          87.07534503372591,
          78.23854840582734,
          56.70162609866678,
          73.84492092513266,
          87.8515561301348,
          40.4140321651033,
          32.70331615632387,
          66.75933855635847,
          80.78459419412586,
          76.22851347766158,
          79.78136488586345,
          43.5583314812933,
          81.78342161750216,
          12.020905537060845,
          54.448909796084955,
          0.575866049812157,
          32.45858299002703,
          36.646153487139784,
          39.61726916092554,
          69.54672066898621,
          38.85581012703457,
          44.86936226225306,
          23.754413087432745,
          37.325179162934006,
          22.726962726315147,
          7.319592376844364,
          60.34485933813779,
          66.82127985550163,
          61.94903460096145,
          46.34940438005724,
          37.978578017922985,
          86.33336495718252,
          51.908178513621806,
          47.9181877629731,
          2.5642065806435688,
          34.12478276261564,
          38.019561878585705,
          39.88227808969005,
          58.017236922733225,
          53.360254672687844,
          60.79050927934446,
          76.48832615421283,
          81.29857387160935,
          71.81230762264944,
          95.55236959549347,
          1.823258267636163,
          19.57779856835461,
          0.756287497814212,
          64.7474714154603,
          89.8030548949987,
          24.34822965762993,
          92.70345447963066,
          6.026739028956085,
          93.44360268055144,
          35.16226872396344,
          10.142082844921651,
          48.58717591863256,
          25.677656772050796,
          28.487290196192284,
          30.728996492628657,
          80.30258978326634,
          53.91612766752545,
          31.130769915600364,
          61.03337833109184,
          71.61506742231936,
          27.262400073353376,
          41.354910152535155,
          12.188609333694755,
          18.11493495346803,
          68.11178539649828,
          18.143834769562694,
          52.516338366706016,
          70.90462617224327,
          10.687692309474384,
          56.73122196289035,
          25.656278370136377,
          96.29268752375798,
          48.35456467199247,
          80.59925497751581,
          55.022654215626176,
          4.341253285481916,
          63.31513755940223,
          95.14033422066571,
          60.16118201463312,
          81.91888594267903,
          88.42064633484078,
          22.807977194893247,
          21.204483990822666,
          61.09809888509917,
          41.10284698067047,
          83.98613028667204,
          90.00231233980112,
          35.34213793027181,
          23.687055897448207,
          78.05255152438619,
          27.48060355481361,
          82.26143185136785,
          42.37382536487628,
          66.75498992914704,
          9.553531383466819,
          62.3859324676573,
          45.17676787372291,
          58.66084631754741,
          16.801420774486342,
          73.68737449441821,
          86.27970775432286,
          21.673980009077564,
          9.571455552016172,
          2.3638586046336396,
          64.1971500443266,
          60.70940360887808,
          54.669741271407005,
          23.194709611597542,
          39.09059959055147,
          59.4476335186173,
          49.67668588591694,
          98.77855202148874,
          13.643975255673313,
          69.51445540475937,
          40.431876810429216,
          42.819961492561475,
          71.75977656581762,
          69.24361513243696,
          99.12559937021884,
          12.839428945412523,
          10.410964938416633,
          72.43388171287411,
          57.83869170064091,
          27.416066655980586,
          7.9419368988986605,
          8.565824959643054,
          89.41908746641182,
          19.18673247187429,
          32.33715621155208,
          22.6656402226988,
          35.49963058319373,
          6.942384274609337,
          51.90597909082704,
          6.76125635922149,
          80.03565078223616,
          23.3712081910433,
          54.00119146045106,
          88.00790875614582,
          65.08773690471942,
          53.29577865513353,
          32.43337531153756,
          33.300191305819794,
          66.94869551981901,
          99.41393612211675,
          66.18391898493786,
          55.77834173700249,
          73.06505102392461,
          46.52056122837182,
          6.0142342600785215,
          56.22968158779098,
          95.76252845053801,
          17.530294235765965,
          69.00048908206658,
          20.093368865905646,
          53.582768447308126,
          9.667644964671961,
          45.037093625818514,
          75.61633288952461,
          34.757152423898205,
          66.4911724487218,
          79.54499607897291,
          92.71778194794527,
          23.464208185545353,
          39.931591580930814,
          15.241601333041743,
          99.24835021583752,
          92.70009679242953,
          53.99571302805596,
          84.20332943764213,
          52.09579772720422,
          62.35856880027597,
          8.912443211601662,
          75.52704204968079,
          12.771348363523483,
          82.60676302525283,
          78.20280876703859,
          70.87446977429764,
          3.6160380524762115,
          30.31283559453286,
          26.311256991084285,
          36.01364074715191,
          8.764274676383854,
          93.69578230310628,
          55.38022407123763,
          30.552431065802356,
          39.698151707428345,
          44.72025405048357,
          60.05943333606173,
          51.567942769649775,
          91.93919732144174,
          49.696348290583025,
          99.21580148233127,
          85.14249577450957,
          20.85105143573358,
          93.05952146439162,
          11.636639788547608,
          81.74497084911916,
          38.06232934765801,
          87.79743204450695,
          86.80566901074504,
          80.59254001176211,
          79.00304363070614,
          30.46791390980408,
          8.091928305125219,
          40.29801787651615,
          17.35245149865087,
          69.49510889024617,
          34.609972653778556,
          97.56102008599149,
          64.0972077345332,
          82.24805636343609,
          13.252467274184843,
          86.20144822726226,
          92.27571905133944,
          48.70619188189359,
          60.625293775097745,
          76.48098009029954,
          17.483862726041256,
          50.25660764634424,
          39.86630277723131,
          14.63739921622491,
          36.753442229153144,
          6.817230938549357,
          2.5811906949486985,
          13.516628915482276,
          96.31151115891738,
          54.952953589501696,
          96.582216115322,
          43.2497878330132,
          31.181613308525957,
          50.61418628402441,
          43.95116886329101,
          10.566468426174392,
          64.08263146902063,
          21.60381825095996,
          61.95879548978296,
          65.02010923981534,
          15.20248531286481,
          6.134962711066816,
          78.07615860684398,
          45.98004237693202,
          5.816379550547579,
          99.48663171697672,
          5.778056099636664,
          69.50352288585532,
          98.36789252634136,
          23.918010421592562,
          14.224936868719617,
          12.138493942242889,
          30.327514756759555,
          10.10458110106467,
          69.2161341694132,
          6.229179813006269,
          50.94221281497897,
          99.66968538529768,
          81.39702695060188,
          61.52194382310109,
          30.625362078661166,
          62.389583629163845,
          52.70414639116516,
          42.60833838903715,
          13.071037674019948,
          88.66042152404667,
          44.97846488213225,
          19.462251182076507,
          36.77593508772896,
          41.4129752528927,
          82.75378955668742,
          73.3614380561402,
          76.93048936413398,
          1.1031264428647214,
          41.615399817976154,
          48.13441516353236,
          1.9192276823056686,
          25.98132087450342,
          76.0289823122135,
          13.710970572899905,
          53.531013145259166,
          21.52018720172375,
          1.2120774643893273,
          24.12014575995415,
          97.58737549100537,
          80.15371118829896,
          95.95766443210334,
          48.785404392636245,
          10.973619867750351,
          54.79594889736929,
          45.43773345599609,
          84.4357082739616,
          9.808258078424458,
          48.82411370217782,
          15.004866469398426,
          32.467592689006,
          73.73570773877996,
          47.601812936876655,
          37.58882851457693,
          39.44762785700353,
          45.94467684059866,
          78.50165438370568,
          89.20846889402344,
          95.53346865039283,
          78.6903386255295,
          31.540689574801274,
          68.81347060865421,
          43.760312405539196,
          25.467062204605117,
          84.08715794259226,
          3.8426348962324997,
          90.17619921354235,
          46.147746462473414,
          63.72014768082804,
          65.93539222057827,
          89.51177407065364,
          63.66696821672073,
          61.39335847600618,
          6.665204056068996,
          51.84080219452041,
          15.016900081704165,
          73.74337687214856,
          51.22219208126745,
          68.02277792083532,
          4.167290060238427,
          8.479201604580322,
          71.63233880626822,
          7.208433599867337,
          7.12567277652586,
          1.210847523488745,
          95.65013982994802,
          73.75083594590069,
          35.32514085020642,
          29.65355812876552,
          34.97032297458495,
          77.46535311811819,
          66.13706110704143,
          18.519556786746794,
          17.410933533408436,
          9.839564971339732,
          66.03027197013381,
          76.43726622217359,
          26.5046428325004,
          2.094496103091281,
          8.217166747642734,
          96.78600348450304,
          29.544477747742025,
          76.92231478381336,
          62.46635688542638,
          38.19396396528959,
          20.56872621955551,
          12.138641815940643,
          61.50129680388666,
          77.4633780637788,
          64.39042535411306,
          53.030213324915835,
          4.195122343163627,
          96.84887775943838,
          79.87141916545745,
          29.282203670096475,
          97.99703293588506,
          60.18815896363221,
          58.24226582072465,
          74.8073179429532,
          81.17697880901376,
          65.64786073315027,
          12.809574636620003,
          33.82675059944984,
          92.80836403260497,
          22.461561184385193,
          37.21670238375133,
          43.2076882944196,
          43.940498969445215,
          61.29395824945255,
          94.30758377447076,
          24.069271183250496,
          12.150137630091805,
          19.747048985993732,
          88.69249002092695,
          64.5810812655206,
          28.590678923916013,
          81.59469389686173,
          86.1369996363436,
          84.6514338690278,
          91.89265336395545,
          25.224102017336158,
          75.50419287462783,
          46.053949727414,
          84.19985528900615,
          72.84906771616131,
          77.64474464997247,
          65.61618376810715,
          17.742876946970686,
          54.502691889693835,
          98.46697395245081,
          93.73880664971189,
          4.317373579701167,
          16.481481572943714,
          13.172877345456191,
          72.59799099852955,
          81.77853298569451,
          21.35113663106719,
          50.5852692951829,
          84.07030280112,
          73.28015447662506,
          54.223720549184826,
          59.03476904587729,
          50.83605469162799,
          29.754845131882057,
          56.50219928590161,
          68.88853020500906,
          87.33229158608077,
          63.629135397924806,
          76.1121537043158,
          16.0071634954573,
          46.15574744197899,
          0.9331619827093296,
          24.667886452162303,
          72.64617151130048,
          99.18099513493634,
          9.917809958721591,
          40.14943158612883,
          80.00709686991596,
          20.403563462889885,
          55.50849493022862,
          73.30712960296748,
          61.5985450260179,
          18.802473461541613,
          35.538456868573945,
          78.37917844853972,
          55.42265141320166,
          0.5229613542912737,
          76.09907600280938,
          3.531135494023907,
          74.57337827312321,
          20.24805601652374,
          95.80734801193802,
          36.79407513020845,
          32.69316163380791,
          14.888805033244468,
          30.560421549021488,
          87.66507618282006,
          99.63343376272474,
          36.83095305068483,
          44.861063095454256,
          72.2070938202737,
          88.61957804650746,
          59.304433418678414,
          39.15256981778293,
          41.262184084862376,
          69.56181464968068,
          0.32182636042786816,
          61.95893374598407,
          35.54930104413574,
          79.41973312770843,
          9.299063982313216,
          58.82022669483905,
          48.09728898861238,
          64.23255259052274,
          6.485359448296835,
          57.99837874281313,
          56.14845879595237,
          56.06600944161709,
          60.34876665964548,
          67.64679372263622,
          80.49889996807697,
          26.982072012821433,
          82.5049410180062,
          49.82556822634536,
          7.705827913433117,
          5.85509292439792,
          33.42383186960608,
          78.48969771114676,
          70.76809347409157,
          78.86149646724064,
          51.72690564416094,
          44.01989979554906,
          14.745252670628394,
          32.81927536093116,
          43.40193661738753,
          8.860042967961723,
          22.061195271121125,
          59.82252940637388,
          73.56631142391899,
          99.83475113929497,
          93.31133313435576,
          64.25651995351916,
          42.1248053294072,
          63.617736470823274,
          78.56516180802319,
          11.833619092338733,
          40.99048896962883,
          83.98022856356172,
          38.3832951933044,
          57.18722712271865,
          58.77693608621982,
          18.447625313363936,
          36.22354416522884,
          33.451128874193216,
          2.6196708532064794,
          2.4191763891355245,
          83.16970436757735,
          27.30708099728124,
          51.80787662388154,
          29.872557358877305,
          94.06792451153404,
          25.929675886577375,
          42.96568127389351,
          87.27302504846018,
          84.19335667918087,
          18.610141784627732,
          80.26433097957104,
          45.81868867378927,
          48.29688720853552,
          13.347997241594378,
          8.060151375712465,
          72.79393069737652,
          49.646115235529976,
          43.68507026151796,
          72.95082286523967,
          76.55128989911097,
          15.890816766935355,
          61.02251494776413,
          13.535408227768553,
          75.13750860290457,
          65.69551562671396,
          95.6614621083458,
          6.895801635642118,
          5.705472115125431,
          28.218707469320016,
          26.170568373590598,
          24.697879907199983,
          90.62545805210367,
          24.95461998495061,
          27.1949726128631,
          75.93982624179637,
          44.973984245054,
          77.67105569551812,
          6.536615756438524,
          48.75711936733843,
          3.3613600183282633,
          6.265320345535452,
          90.64374533444109,
          13.924537111759516,
          53.24206822752171,
          41.10956026007065,
          34.73433262588427,
          89.98333456872724,
          2.18233967754895,
          66.37896861755891,
          96.33944342135504,
          56.016818346184195,
          93.68224620330918,
          5.225787928602377,
          41.87933190741614,
          26.015779096205115,
          73.08209649807299,
          98.12970904972467,
          25.65300624442478,
          65.41746014740745,
          19.809763275974014,
          56.53302545716099,
          46.39324866883362,
          97.2005329631537,
          60.85272726964666,
          34.950637208681876,
          11.409578488793336,
          15.124682873493455,
          22.53169299512351,
          25.0966661340298,
          85.06160578411378,
          56.12227882825249,
          52.33909113743665,
          11.476887186921747,
          86.0139693349435,
          72.28143032084837,
          6.766836190000158,
          70.78350972297687,
          54.353821734264606,
          8.172534574677826,
          45.830064152865646,
          48.469628713004695,
          16.577454016327575,
          94.56981470002823,
          84.99753714806619,
          66.90223373291083,
          46.22955610006072,
          41.17655415845085,
          65.09734671509541,
          54.543186940690546,
          6.227310588188562,
          51.25026487703317,
          80.64036172328395,
          45.923987759695805,
          5.195657755426842,
          78.6278199384033,
          20.13637821359744,
          25.862083488803876,
          16.47063534322959,
          33.02150648714976,
          75.6751505688635,
          51.93858595039374,
          20.488127415071254,
          87.78300781520409,
          87.95818549515292,
          87.05784250460069,
          23.87962113815393,
          45.12393441809881,
          98.49896561408751,
          77.20124763099903,
          2.716742122555982,
          6.5204591260492055,
          46.39313768123328,
          90.92202058615601,
          53.870179795271426,
          49.781250803429025,
          10.547369995663058,
          65.6780104724294,
          82.21031606002255,
          38.04200075075623,
          77.56118509253275,
          96.44766539008116,
          20.376645912768907,
          52.33296311947413,
          28.713795808457554,
          79.28544190338394,
          57.75933658811575,
          63.45824175503038,
          79.79141596158941,
          39.59704726624549,
          91.50900684070432,
          53.302886724614,
          15.7954822835348,
          69.58991181688025,
          79.32613504382545,
          31.67616770675267,
          85.7179256998753,
          90.61432547657664,
          27.690448737780894,
          98.3521472715222,
          14.071152804875842,
          20.201566840248997,
          18.422483923802613,
          89.39897100078704,
          65.42925523249619,
          15.210428322227287,
          44.032341836834895,
          61.529802506980204,
          8.34640849893833,
          88.24163684073388,
          80.36035354415351,
          50.52067735766382,
          96.71266152591704,
          41.77609792750997,
          98.41103190364979,
          66.79199988036271,
          63.467127325394145,
          16.5954895295785,
          88.1927758304644,
          42.74896879206152,
          16.223340578247935,
          1.260751997575904,
          55.975568363838256,
          52.739962212267635,
          71.93536223691585,
          89.02580530178021
         ],
         "yaxis": "y"
        }
       ],
       "layout": {
        "coloraxis": {
         "colorbar": {
          "title": {
           "text": "Reddito"
          }
         },
         "colorscale": [
          [
           0,
           "#0d0887"
          ],
          [
           0.1111111111111111,
           "#46039f"
          ],
          [
           0.2222222222222222,
           "#7201a8"
          ],
          [
           0.3333333333333333,
           "#9c179e"
          ],
          [
           0.4444444444444444,
           "#bd3786"
          ],
          [
           0.5555555555555556,
           "#d8576b"
          ],
          [
           0.6666666666666666,
           "#ed7953"
          ],
          [
           0.7777777777777778,
           "#fb9f3a"
          ],
          [
           0.8888888888888888,
           "#fdca26"
          ],
          [
           1,
           "#f0f921"
          ]
         ]
        },
        "legend": {
         "tracegroupgap": 0
        },
        "margin": {
         "t": 60
        },
        "template": {
         "data": {
          "bar": [
           {
            "error_x": {
             "color": "#2a3f5f"
            },
            "error_y": {
             "color": "#2a3f5f"
            },
            "marker": {
             "line": {
              "color": "#E5ECF6",
              "width": 0.5
             },
             "pattern": {
              "fillmode": "overlay",
              "size": 10,
              "solidity": 0.2
             }
            },
            "type": "bar"
           }
          ],
          "barpolar": [
           {
            "marker": {
             "line": {
              "color": "#E5ECF6",
              "width": 0.5
             },
             "pattern": {
              "fillmode": "overlay",
              "size": 10,
              "solidity": 0.2
             }
            },
            "type": "barpolar"
           }
          ],
          "carpet": [
           {
            "aaxis": {
             "endlinecolor": "#2a3f5f",
             "gridcolor": "white",
             "linecolor": "white",
             "minorgridcolor": "white",
             "startlinecolor": "#2a3f5f"
            },
            "baxis": {
             "endlinecolor": "#2a3f5f",
             "gridcolor": "white",
             "linecolor": "white",
             "minorgridcolor": "white",
             "startlinecolor": "#2a3f5f"
            },
            "type": "carpet"
           }
          ],
          "choropleth": [
           {
            "colorbar": {
             "outlinewidth": 0,
             "ticks": ""
            },
            "type": "choropleth"
           }
          ],
          "contour": [
           {
            "colorbar": {
             "outlinewidth": 0,
             "ticks": ""
            },
            "colorscale": [
             [
              0,
              "#0d0887"
             ],
             [
              0.1111111111111111,
              "#46039f"
             ],
             [
              0.2222222222222222,
              "#7201a8"
             ],
             [
              0.3333333333333333,
              "#9c179e"
             ],
             [
              0.4444444444444444,
              "#bd3786"
             ],
             [
              0.5555555555555556,
              "#d8576b"
             ],
             [
              0.6666666666666666,
              "#ed7953"
             ],
             [
              0.7777777777777778,
              "#fb9f3a"
             ],
             [
              0.8888888888888888,
              "#fdca26"
             ],
             [
              1,
              "#f0f921"
             ]
            ],
            "type": "contour"
           }
          ],
          "contourcarpet": [
           {
            "colorbar": {
             "outlinewidth": 0,
             "ticks": ""
            },
            "type": "contourcarpet"
           }
          ],
          "heatmap": [
           {
            "colorbar": {
             "outlinewidth": 0,
             "ticks": ""
            },
            "colorscale": [
             [
              0,
              "#0d0887"
             ],
             [
              0.1111111111111111,
              "#46039f"
             ],
             [
              0.2222222222222222,
              "#7201a8"
             ],
             [
              0.3333333333333333,
              "#9c179e"
             ],
             [
              0.4444444444444444,
              "#bd3786"
             ],
             [
              0.5555555555555556,
              "#d8576b"
             ],
             [
              0.6666666666666666,
              "#ed7953"
             ],
             [
              0.7777777777777778,
              "#fb9f3a"
             ],
             [
              0.8888888888888888,
              "#fdca26"
             ],
             [
              1,
              "#f0f921"
             ]
            ],
            "type": "heatmap"
           }
          ],
          "heatmapgl": [
           {
            "colorbar": {
             "outlinewidth": 0,
             "ticks": ""
            },
            "colorscale": [
             [
              0,
              "#0d0887"
             ],
             [
              0.1111111111111111,
              "#46039f"
             ],
             [
              0.2222222222222222,
              "#7201a8"
             ],
             [
              0.3333333333333333,
              "#9c179e"
             ],
             [
              0.4444444444444444,
              "#bd3786"
             ],
             [
              0.5555555555555556,
              "#d8576b"
             ],
             [
              0.6666666666666666,
              "#ed7953"
             ],
             [
              0.7777777777777778,
              "#fb9f3a"
             ],
             [
              0.8888888888888888,
              "#fdca26"
             ],
             [
              1,
              "#f0f921"
             ]
            ],
            "type": "heatmapgl"
           }
          ],
          "histogram": [
           {
            "marker": {
             "pattern": {
              "fillmode": "overlay",
              "size": 10,
              "solidity": 0.2
             }
            },
            "type": "histogram"
           }
          ],
          "histogram2d": [
           {
            "colorbar": {
             "outlinewidth": 0,
             "ticks": ""
            },
            "colorscale": [
             [
              0,
              "#0d0887"
             ],
             [
              0.1111111111111111,
              "#46039f"
             ],
             [
              0.2222222222222222,
              "#7201a8"
             ],
             [
              0.3333333333333333,
              "#9c179e"
             ],
             [
              0.4444444444444444,
              "#bd3786"
             ],
             [
              0.5555555555555556,
              "#d8576b"
             ],
             [
              0.6666666666666666,
              "#ed7953"
             ],
             [
              0.7777777777777778,
              "#fb9f3a"
             ],
             [
              0.8888888888888888,
              "#fdca26"
             ],
             [
              1,
              "#f0f921"
             ]
            ],
            "type": "histogram2d"
           }
          ],
          "histogram2dcontour": [
           {
            "colorbar": {
             "outlinewidth": 0,
             "ticks": ""
            },
            "colorscale": [
             [
              0,
              "#0d0887"
             ],
             [
              0.1111111111111111,
              "#46039f"
             ],
             [
              0.2222222222222222,
              "#7201a8"
             ],
             [
              0.3333333333333333,
              "#9c179e"
             ],
             [
              0.4444444444444444,
              "#bd3786"
             ],
             [
              0.5555555555555556,
              "#d8576b"
             ],
             [
              0.6666666666666666,
              "#ed7953"
             ],
             [
              0.7777777777777778,
              "#fb9f3a"
             ],
             [
              0.8888888888888888,
              "#fdca26"
             ],
             [
              1,
              "#f0f921"
             ]
            ],
            "type": "histogram2dcontour"
           }
          ],
          "mesh3d": [
           {
            "colorbar": {
             "outlinewidth": 0,
             "ticks": ""
            },
            "type": "mesh3d"
           }
          ],
          "parcoords": [
           {
            "line": {
             "colorbar": {
              "outlinewidth": 0,
              "ticks": ""
             }
            },
            "type": "parcoords"
           }
          ],
          "pie": [
           {
            "automargin": true,
            "type": "pie"
           }
          ],
          "scatter": [
           {
            "fillpattern": {
             "fillmode": "overlay",
             "size": 10,
             "solidity": 0.2
            },
            "type": "scatter"
           }
          ],
          "scatter3d": [
           {
            "line": {
             "colorbar": {
              "outlinewidth": 0,
              "ticks": ""
             }
            },
            "marker": {
             "colorbar": {
              "outlinewidth": 0,
              "ticks": ""
             }
            },
            "type": "scatter3d"
           }
          ],
          "scattercarpet": [
           {
            "marker": {
             "colorbar": {
              "outlinewidth": 0,
              "ticks": ""
             }
            },
            "type": "scattercarpet"
           }
          ],
          "scattergeo": [
           {
            "marker": {
             "colorbar": {
              "outlinewidth": 0,
              "ticks": ""
             }
            },
            "type": "scattergeo"
           }
          ],
          "scattergl": [
           {
            "marker": {
             "colorbar": {
              "outlinewidth": 0,
              "ticks": ""
             }
            },
            "type": "scattergl"
           }
          ],
          "scattermapbox": [
           {
            "marker": {
             "colorbar": {
              "outlinewidth": 0,
              "ticks": ""
             }
            },
            "type": "scattermapbox"
           }
          ],
          "scatterpolar": [
           {
            "marker": {
             "colorbar": {
              "outlinewidth": 0,
              "ticks": ""
             }
            },
            "type": "scatterpolar"
           }
          ],
          "scatterpolargl": [
           {
            "marker": {
             "colorbar": {
              "outlinewidth": 0,
              "ticks": ""
             }
            },
            "type": "scatterpolargl"
           }
          ],
          "scatterternary": [
           {
            "marker": {
             "colorbar": {
              "outlinewidth": 0,
              "ticks": ""
             }
            },
            "type": "scatterternary"
           }
          ],
          "surface": [
           {
            "colorbar": {
             "outlinewidth": 0,
             "ticks": ""
            },
            "colorscale": [
             [
              0,
              "#0d0887"
             ],
             [
              0.1111111111111111,
              "#46039f"
             ],
             [
              0.2222222222222222,
              "#7201a8"
             ],
             [
              0.3333333333333333,
              "#9c179e"
             ],
             [
              0.4444444444444444,
              "#bd3786"
             ],
             [
              0.5555555555555556,
              "#d8576b"
             ],
             [
              0.6666666666666666,
              "#ed7953"
             ],
             [
              0.7777777777777778,
              "#fb9f3a"
             ],
             [
              0.8888888888888888,
              "#fdca26"
             ],
             [
              1,
              "#f0f921"
             ]
            ],
            "type": "surface"
           }
          ],
          "table": [
           {
            "cells": {
             "fill": {
              "color": "#EBF0F8"
             },
             "line": {
              "color": "white"
             }
            },
            "header": {
             "fill": {
              "color": "#C8D4E3"
             },
             "line": {
              "color": "white"
             }
            },
            "type": "table"
           }
          ]
         },
         "layout": {
          "annotationdefaults": {
           "arrowcolor": "#2a3f5f",
           "arrowhead": 0,
           "arrowwidth": 1
          },
          "autotypenumbers": "strict",
          "coloraxis": {
           "colorbar": {
            "outlinewidth": 0,
            "ticks": ""
           }
          },
          "colorscale": {
           "diverging": [
            [
             0,
             "#8e0152"
            ],
            [
             0.1,
             "#c51b7d"
            ],
            [
             0.2,
             "#de77ae"
            ],
            [
             0.3,
             "#f1b6da"
            ],
            [
             0.4,
             "#fde0ef"
            ],
            [
             0.5,
             "#f7f7f7"
            ],
            [
             0.6,
             "#e6f5d0"
            ],
            [
             0.7,
             "#b8e186"
            ],
            [
             0.8,
             "#7fbc41"
            ],
            [
             0.9,
             "#4d9221"
            ],
            [
             1,
             "#276419"
            ]
           ],
           "sequential": [
            [
             0,
             "#0d0887"
            ],
            [
             0.1111111111111111,
             "#46039f"
            ],
            [
             0.2222222222222222,
             "#7201a8"
            ],
            [
             0.3333333333333333,
             "#9c179e"
            ],
            [
             0.4444444444444444,
             "#bd3786"
            ],
            [
             0.5555555555555556,
             "#d8576b"
            ],
            [
             0.6666666666666666,
             "#ed7953"
            ],
            [
             0.7777777777777778,
             "#fb9f3a"
            ],
            [
             0.8888888888888888,
             "#fdca26"
            ],
            [
             1,
             "#f0f921"
            ]
           ],
           "sequentialminus": [
            [
             0,
             "#0d0887"
            ],
            [
             0.1111111111111111,
             "#46039f"
            ],
            [
             0.2222222222222222,
             "#7201a8"
            ],
            [
             0.3333333333333333,
             "#9c179e"
            ],
            [
             0.4444444444444444,
             "#bd3786"
            ],
            [
             0.5555555555555556,
             "#d8576b"
            ],
            [
             0.6666666666666666,
             "#ed7953"
            ],
            [
             0.7777777777777778,
             "#fb9f3a"
            ],
            [
             0.8888888888888888,
             "#fdca26"
            ],
            [
             1,
             "#f0f921"
            ]
           ]
          },
          "colorway": [
           "#636efa",
           "#EF553B",
           "#00cc96",
           "#ab63fa",
           "#FFA15A",
           "#19d3f3",
           "#FF6692",
           "#B6E880",
           "#FF97FF",
           "#FECB52"
          ],
          "font": {
           "color": "#2a3f5f"
          },
          "geo": {
           "bgcolor": "white",
           "lakecolor": "white",
           "landcolor": "#E5ECF6",
           "showlakes": true,
           "showland": true,
           "subunitcolor": "white"
          },
          "hoverlabel": {
           "align": "left"
          },
          "hovermode": "closest",
          "mapbox": {
           "style": "light"
          },
          "paper_bgcolor": "white",
          "plot_bgcolor": "#E5ECF6",
          "polar": {
           "angularaxis": {
            "gridcolor": "white",
            "linecolor": "white",
            "ticks": ""
           },
           "bgcolor": "#E5ECF6",
           "radialaxis": {
            "gridcolor": "white",
            "linecolor": "white",
            "ticks": ""
           }
          },
          "scene": {
           "xaxis": {
            "backgroundcolor": "#E5ECF6",
            "gridcolor": "white",
            "gridwidth": 2,
            "linecolor": "white",
            "showbackground": true,
            "ticks": "",
            "zerolinecolor": "white"
           },
           "yaxis": {
            "backgroundcolor": "#E5ECF6",
            "gridcolor": "white",
            "gridwidth": 2,
            "linecolor": "white",
            "showbackground": true,
            "ticks": "",
            "zerolinecolor": "white"
           },
           "zaxis": {
            "backgroundcolor": "#E5ECF6",
            "gridcolor": "white",
            "gridwidth": 2,
            "linecolor": "white",
            "showbackground": true,
            "ticks": "",
            "zerolinecolor": "white"
           }
          },
          "shapedefaults": {
           "line": {
            "color": "#2a3f5f"
           }
          },
          "ternary": {
           "aaxis": {
            "gridcolor": "white",
            "linecolor": "white",
            "ticks": ""
           },
           "baxis": {
            "gridcolor": "white",
            "linecolor": "white",
            "ticks": ""
           },
           "bgcolor": "#E5ECF6",
           "caxis": {
            "gridcolor": "white",
            "linecolor": "white",
            "ticks": ""
           }
          },
          "title": {
           "x": 0.05
          },
          "xaxis": {
           "automargin": true,
           "gridcolor": "white",
           "linecolor": "white",
           "ticks": "",
           "title": {
            "standoff": 15
           },
           "zerolinecolor": "white",
           "zerolinewidth": 2
          },
          "yaxis": {
           "automargin": true,
           "gridcolor": "white",
           "linecolor": "white",
           "ticks": "",
           "title": {
            "standoff": 15
           },
           "zerolinecolor": "white",
           "zerolinewidth": 2
          }
         }
        },
        "title": {
         "text": "Relazione tra Età, Punteggio e Reddito"
        },
        "xaxis": {
         "anchor": "y",
         "domain": [
          0,
          1
         ],
         "title": {
          "text": "Età"
         }
        },
        "yaxis": {
         "anchor": "x",
         "domain": [
          0,
          1
         ],
         "title": {
          "text": "Punteggio"
         }
        }
       }
      }
     },
     "metadata": {},
     "output_type": "display_data"
    }
   ],
   "source": [
    "import pandas as pd\n",
    "import numpy as np\n",
    "import matplotlib.pyplot as plt\n",
    "import seaborn as sns\n",
    "import plotly.express as px\n",
    "\n",
    "# Genera dati casuali per l'esplorazione\n",
    "np.random.seed(42)\n",
    "data = {\n",
    "    'Età': np.random.randint(18, 70, size=1000),\n",
    "    'Genere': np.random.choice(['Maschio', 'Femmina'], size=1000),\n",
    "    'Punteggio': np.random.uniform(0, 100, size=1000),\n",
    "    'Reddito': np.random.normal(50000, 15000, size=1000)\n",
    "}\n",
    "\n",
    "df = pd.DataFrame(data)\n",
    "\n",
    "# Istogramma dell'età\n",
    "plt.figure(figsize=(10, 6))\n",
    "sns.histplot(df['Età'], kde=True)\n",
    "plt.title('Distribuzione dell\\'Età')\n",
    "plt.xlabel('Età')\n",
    "plt.ylabel('Frequenza')\n",
    "plt.show()\n",
    "\n",
    "# Grafico a barre del genere\n",
    "plt.figure(figsize=(10, 6))\n",
    "sns.countplot(x='Genere', data=df)\n",
    "plt.title('Conteggio per Genere')\n",
    "plt.xlabel('Genere')\n",
    "plt.ylabel('Conteggio')\n",
    "plt.show()\n",
    "\n",
    "# Scatter plot di età vs punteggio\n",
    "plt.figure(figsize=(10, 6))\n",
    "sns.scatterplot(x='Età', y='Punteggio', data=df)\n",
    "plt.title('Relazione tra Età e Punteggio')\n",
    "plt.xlabel('Età')\n",
    "plt.ylabel('Punteggio')\n",
    "plt.show()\n",
    "\n",
    "# Box plot del reddito per genere\n",
    "plt.figure(figsize=(10, 6))\n",
    "sns.boxplot(x='Genere', y='Reddito', data=df)\n",
    "plt.title('Distribuzione del Reddito per Genere')\n",
    "plt.xlabel('Genere')\n",
    "plt.ylabel('Reddito')\n",
    "plt.show()\n",
    "\n",
    "# Violin plot del reddito per genere\n",
    "plt.figure(figsize=(10, 6))\n",
    "sns.violinplot(x='Genere', y='Reddito', data=df)\n",
    "plt.title('Distribuzione del Reddito per Genere')\n",
    "plt.xlabel('Genere')\n",
    "plt.ylabel('Reddito')\n",
    "plt.show()\n",
    "\n",
    "# Plotly Scatter plot di età, punteggio e reddito\n",
    "fig = px.scatter(df, x='Età', y='Punteggio', color='Reddito', hover_data=['Genere'])\n",
    "fig.update_layout(title='Relazione tra Età, Punteggio e Reddito', xaxis_title='Età', yaxis_title='Punteggio')\n",
    "fig.show()\n"
   ]
  },
  {
   "cell_type": "code",
   "execution_count": 4,
   "id": "e3f70afd",
   "metadata": {
    "scrolled": true
   },
   "outputs": [
    {
     "name": "stdout",
     "output_type": "stream",
     "text": [
      "   Variable1  Variable2 Missing_Column\n",
      "0          1        1.0              A\n",
      "1          2        2.0              B\n",
      "2          3        NaN              A\n",
      "3          4        4.0              C\n",
      "4          5        NaN            NaN\n"
     ]
    }
   ],
   "source": [
    "# Creazione di un DataFrame utilizzando la libreria pandas\n",
    "df = pd.DataFrame(data)\n",
    "\n",
    "# Stampa delle prime 50 righe del DataFrame\n",
    "print(df.head(50))\n"
   ]
  },
  {
   "cell_type": "code",
   "execution_count": 11,
   "id": "3e513425",
   "metadata": {},
   "outputs": [
    {
     "name": "stdout",
     "output_type": "stream",
     "text": [
      "<class 'pandas.core.frame.DataFrame'>\n",
      "RangeIndex: 1000 entries, 0 to 999\n",
      "Data columns (total 4 columns):\n",
      " #   Column     Non-Null Count  Dtype  \n",
      "---  ------     --------------  -----  \n",
      " 0   Età        1000 non-null   int32  \n",
      " 1   Genere     1000 non-null   object \n",
      " 2   Punteggio  1000 non-null   float64\n",
      " 3   Reddito    1000 non-null   float64\n",
      "dtypes: float64(2), int32(1), object(1)\n",
      "memory usage: 27.5+ KB\n",
      "None\n"
     ]
    }
   ],
   "source": [
    "print(df.info())\n",
    "   "
   ]
  },
  {
   "cell_type": "code",
   "execution_count": 12,
   "id": "7b75a365",
   "metadata": {},
   "outputs": [
    {
     "name": "stdout",
     "output_type": "stream",
     "text": [
      "<bound method NDFrame.describe of      Età   Genere  Punteggio       Reddito\n",
      "0     56  Maschio  85.120691  52915.764524\n",
      "1     69  Maschio  49.514653  44702.505608\n",
      "2     46  Maschio  48.058658  55077.257652\n",
      "3     32  Femmina  59.240778  45568.978848\n",
      "4     60  Maschio  82.468097  52526.914644\n",
      "..   ...      ...        ...           ...\n",
      "995   60  Femmina   1.260752  28916.494712\n",
      "996   64  Maschio  55.975568  50234.275009\n",
      "997   62  Femmina  52.739962  63534.157607\n",
      "998   35  Maschio  71.935362  36383.657298\n",
      "999   55  Maschio  89.025805  72789.258855\n",
      "\n",
      "[1000 rows x 4 columns]>\n"
     ]
    }
   ],
   "source": [
    " print(df.describe)\n",
    "    "
   ]
  },
  {
   "cell_type": "code",
   "execution_count": 13,
   "id": "3f20db57",
   "metadata": {},
   "outputs": [
    {
     "name": "stdout",
     "output_type": "stream",
     "text": [
      "<bound method NDFrame._add_numeric_operations.<locals>.sum of        Età  Genere  Punteggio  Reddito\n",
      "0    False   False      False    False\n",
      "1    False   False      False    False\n",
      "2    False   False      False    False\n",
      "3    False   False      False    False\n",
      "4    False   False      False    False\n",
      "..     ...     ...        ...      ...\n",
      "995  False   False      False    False\n",
      "996  False   False      False    False\n",
      "997  False   False      False    False\n",
      "998  False   False      False    False\n",
      "999  False   False      False    False\n",
      "\n",
      "[1000 rows x 4 columns]>\n"
     ]
    }
   ],
   "source": [
    "# Calcola il numero di valori mancanti per ciascuna colonna nel DataFrame df\n",
    "Mdata = df.isnull().sum()\n",
    "\n",
    "# Stampa il risultato\n",
    "print(Mdata)\n"
   ]
  },
  {
   "cell_type": "code",
   "execution_count": 28,
   "id": "fa16bb1b",
   "metadata": {},
   "outputs": [
    {
     "name": "stderr",
     "output_type": "stream",
     "text": [
      "C:\\Users\\User\\AppData\\Local\\Temp\\ipykernel_18328\\1365445583.py:15: FutureWarning: The default value of numeric_only in DataFrame.corr is deprecated. In a future version, it will default to False. Select only valid columns or specify the value of numeric_only to silence this warning.\n",
      "  correlation_matrix = data.corr()\n"
     ]
    },
    {
     "data": {
      "image/png": "[encoded data removed]",
      "text/plain": [
       "<Figure size 1000x800 with 2 Axes>"
      ]
     },
     "metadata": {},
     "output_type": "display_data"
    }
   ],
   "source": [
    "import numpy as np\n",
    "import pandas as pd  # Aggiunto l'import necessario\n",
    "import seaborn as sns\n",
    "import matplotlib.pyplot as plt\n",
    "\n",
    "# Genera un dataset di esempio con variabili numeriche\n",
    "np.random.seed(42)\n",
    "data = pd.DataFrame(np.random.rand(100, 5), columns=['Var1', 'Var2', 'Var3', 'Var4', 'Var5'])\n",
    "\n",
    "# Aggiungi alcune variabili categoriche generate casualmente\n",
    "data['Categoria1'] = np.random.choice(['A', 'B', 'C'], size=100)\n",
    "data['Categoria2'] = np.random.choice(['X', 'Y'], size=100)\n",
    "\n",
    "# Calcola la matrice di correlazione\n",
    "correlation_matrix = data.corr()\n",
    "\n",
    "# Imposta la dimensione della figura per il grafico a mappa di calore\n",
    "plt.figure(figsize=(10, 8))\n",
    "\n",
    "# Utilizza seaborn per creare una mappa di calore con annotazioni, colormap \"coolwarm\" e alfha corretto a alpha\n",
    "sns.heatmap(correlation_matrix, annot=True, cmap=\"coolwarm\", alpha=0.7)\n",
    "\n",
    "# Aggiungi il titolo al grafico\n",
    "plt.title(\"Matrice di correlazione\")\n",
    "\n",
    "# Visualizza il grafico\n",
    "plt.show()\n"
   ]
  },
  {
   "cell_type": "code",
   "execution_count": 7,
   "id": "19df06b7",
   "metadata": {},
   "outputs": [
    {
     "data": {
      "text/html": [
       "<div>\n",
       "<style scoped>\n",
       "    .dataframe tbody tr th:only-of-type {\n",
       "        vertical-align: middle;\n",
       "    }\n",
       "\n",
       "    .dataframe tbody tr th {\n",
       "        vertical-align: top;\n",
       "    }\n",
       "\n",
       "    .dataframe thead th {\n",
       "        text-align: right;\n",
       "    }\n",
       "</style>\n",
       "<table border=\"1\" class=\"dataframe\">\n",
       "  <thead>\n",
       "    <tr style=\"text-align: right;\">\n",
       "      <th></th>\n",
       "      <th>CatCol1</th>\n",
       "      <th>CatCol2</th>\n",
       "      <th>NumCol1</th>\n",
       "      <th>NumCol2</th>\n",
       "      <th>NumCol3</th>\n",
       "    </tr>\n",
       "  </thead>\n",
       "  <tbody>\n",
       "    <tr>\n",
       "      <th>0</th>\n",
       "      <td>A</td>\n",
       "      <td>NaN</td>\n",
       "      <td>0.440877</td>\n",
       "      <td>49.0</td>\n",
       "      <td>0.246007</td>\n",
       "    </tr>\n",
       "    <tr>\n",
       "      <th>1</th>\n",
       "      <td>A</td>\n",
       "      <td>Y</td>\n",
       "      <td>1.945879</td>\n",
       "      <td>28.0</td>\n",
       "      <td>0.936825</td>\n",
       "    </tr>\n",
       "    <tr>\n",
       "      <th>2</th>\n",
       "      <td>C</td>\n",
       "      <td>X</td>\n",
       "      <td>0.988834</td>\n",
       "      <td>42.0</td>\n",
       "      <td>0.751516</td>\n",
       "    </tr>\n",
       "    <tr>\n",
       "      <th>3</th>\n",
       "      <td>A</td>\n",
       "      <td>Y</td>\n",
       "      <td>-0.181978</td>\n",
       "      <td>73.0</td>\n",
       "      <td>0.950696</td>\n",
       "    </tr>\n",
       "    <tr>\n",
       "      <th>4</th>\n",
       "      <td>B</td>\n",
       "      <td>X</td>\n",
       "      <td>2.080615</td>\n",
       "      <td>74.0</td>\n",
       "      <td>0.903045</td>\n",
       "    </tr>\n",
       "    <tr>\n",
       "      <th>...</th>\n",
       "      <td>...</td>\n",
       "      <td>...</td>\n",
       "      <td>...</td>\n",
       "      <td>...</td>\n",
       "      <td>...</td>\n",
       "    </tr>\n",
       "    <tr>\n",
       "      <th>9995</th>\n",
       "      <td>C</td>\n",
       "      <td>Y</td>\n",
       "      <td>1.352114</td>\n",
       "      <td>61.0</td>\n",
       "      <td>0.728445</td>\n",
       "    </tr>\n",
       "    <tr>\n",
       "      <th>9996</th>\n",
       "      <td>C</td>\n",
       "      <td>Y</td>\n",
       "      <td>1.143642</td>\n",
       "      <td>67.0</td>\n",
       "      <td>0.605930</td>\n",
       "    </tr>\n",
       "    <tr>\n",
       "      <th>9997</th>\n",
       "      <td>A</td>\n",
       "      <td>X</td>\n",
       "      <td>-0.665794</td>\n",
       "      <td>54.0</td>\n",
       "      <td>0.071041</td>\n",
       "    </tr>\n",
       "    <tr>\n",
       "      <th>9998</th>\n",
       "      <td>C</td>\n",
       "      <td>Y</td>\n",
       "      <td>0.004278</td>\n",
       "      <td>NaN</td>\n",
       "      <td>NaN</td>\n",
       "    </tr>\n",
       "    <tr>\n",
       "      <th>9999</th>\n",
       "      <td>A</td>\n",
       "      <td>X</td>\n",
       "      <td>0.622473</td>\n",
       "      <td>95.0</td>\n",
       "      <td>0.751384</td>\n",
       "    </tr>\n",
       "  </tbody>\n",
       "</table>\n",
       "<p>10000 rows × 5 columns</p>\n",
       "</div>"
      ],
      "text/plain": [
       "     CatCol1 CatCol2   NumCol1  NumCol2   NumCol3\n",
       "0          A     NaN  0.440877     49.0  0.246007\n",
       "1          A       Y  1.945879     28.0  0.936825\n",
       "2          C       X  0.988834     42.0  0.751516\n",
       "3          A       Y -0.181978     73.0  0.950696\n",
       "4          B       X  2.080615     74.0  0.903045\n",
       "...      ...     ...       ...      ...       ...\n",
       "9995       C       Y  1.352114     61.0  0.728445\n",
       "9996       C       Y  1.143642     67.0  0.605930\n",
       "9997       A       X -0.665794     54.0  0.071041\n",
       "9998       C       Y  0.004278      NaN       NaN\n",
       "9999       A       X  0.622473     95.0  0.751384\n",
       "\n",
       "[10000 rows x 5 columns]"
      ]
     },
     "execution_count": 7,
     "metadata": {},
     "output_type": "execute_result"
    }
   ],
   "source": [
    "import pandas as pd\n",
    "import numpy as np\n",
    "\n",
    "# Impostare il seed per rendere i risultati riproducibili\n",
    "np.random.seed(41)\n",
    "\n",
    "# Creare un dataframe vuoto\n",
    "df = pd.DataFrame()\n",
    "\n",
    "# Generare dati casuali\n",
    "n_rows = 10000\n",
    "df['CatCol1'] = np.random.choice(['A', 'B', 'C'], size=n_rows)\n",
    "df['CatCol2'] = np.random.choice(['X', 'Y'], size=n_rows)\n",
    "df['NumCol1'] = np.random.randn(n_rows)\n",
    "df['NumCol2'] = np.random.randint(1, 100, size=n_rows)\n",
    "df['NumCol3'] = np.random.uniform(0, 1, size=n_rows)\n",
    "\n",
    "# Calcolare il numero totale di missing values desiderati\n",
    "total_missing_values = int(0.03 * n_rows * len(df.columns))\n",
    "\n",
    "# Introdurre missing values casuali\n",
    "for column in df.columns:\n",
    "    num_missing_values = np.random.randint(0, total_missing_values + 1)\n",
    "    missing_indices = np.random.choice(n_rows, size=num_missing_values, replace=False)\n",
    "    df.loc[missing_indices, column] = np.nan\n",
    "df"
   ]
  },
  {
   "cell_type": "code",
   "execution_count": 8,
   "id": "64c420b5",
   "metadata": {},
   "outputs": [
    {
     "data": {
      "text/plain": [
       "3648"
      ]
     },
     "execution_count": 8,
     "metadata": {},
     "output_type": "execute_result"
    }
   ],
   "source": [
    "# troba le del DataFrame df che contengono almeno un valore mancante\n",
    "righeNan = df[df.isnull().any(axis=1)]\n",
    "\n",
    "# Calcola la lunghezza del DataFrame risultante\n",
    "len_righeNan = len(righeNan)\n",
    "\n",
    "# Stampa la lunghezza del DataFrame \n",
    "print(len_righeNan)\n"
   ]
  },
  {
   "cell_type": "code",
   "execution_count": 9,
   "id": "e7529abb",
   "metadata": {},
   "outputs": [
    {
     "data": {
      "text/plain": [
       "CatCol1     0.29\n",
       "CatCol2    10.63\n",
       "NumCol1     9.67\n",
       "NumCol2    10.48\n",
       "NumCol3    12.69\n",
       "dtype: float64"
      ]
     },
     "execution_count": 9,
     "metadata": {},
     "output_type": "execute_result"
    }
   ],
   "source": [
    "# Calcola la percentuale di valori mancanti per ciascuna colonna nel DataFrame \n",
    "missing_percent = (df.isnull().sum() / len(df)) * 100\n",
    "\n",
    "# Restituisce una Serie contenente le percentuali di valori mancanti per ciascuna colonna\n",
    "missing_percent\n"
   ]
  },
  {
   "cell_type": "code",
   "execution_count": 24,
   "id": "2ac60f72",
   "metadata": {},
   "outputs": [
    {
     "data": {
      "text/plain": [
       "<Axes: >"
      ]
     },
     "execution_count": 24,
     "metadata": {},
     "output_type": "execute_result"
    },
    {
     "data": {
      "image/png": "[encoded data removed]",
      "text/plain": [
       "<Figure size 800x600 with 1 Axes>"
      ]
     },
     "metadata": {},
     "output_type": "display_data"
    }
   ],
   "source": [
    "# Trova i valori nulli\n",
    "Mmatrix = df.isnull()\n",
    "\n",
    "# Imposta la dimensione della figura\n",
    "plt.figure(figsize=(8, 6))\n",
    "\n",
    "# Crea una mappa di calore utilizzando seaborn\n",
    "sns.heatmap(Mmatrix, cmap=\"viridis\", cbar=False, alpha=0.7)"
   ]
  },
  {
   "cell_type": "code",
   "execution_count": 25,
   "id": "610e0c8e",
   "metadata": {},
   "outputs": [
    {
     "name": "stdout",
     "output_type": "stream",
     "text": [
      "   Variable1  Variable2\n",
      "0          1        1.0\n",
      "1          2        2.0\n",
      "2          3        NaN\n",
      "3          4        4.0\n",
      "4          5        NaN\n"
     ]
    }
   ],
   "source": [
    "# Seleziona colonne con dati numerici nel DataFrame\n",
    "ncol = df.select_dtypes(include=[\"number\"])\n",
    "\n",
    "# Stampa \n",
    "print(ncol)\n"
   ]
  },
  {
   "cell_type": "code",
   "execution_count": 7,
   "id": "a84abf54",
   "metadata": {},
   "outputs": [
    {
     "data": {
      "text/plain": [
       "<function matplotlib.pyplot.show(close=None, block=None)>"
      ]
     },
     "execution_count": 7,
     "metadata": {},
     "output_type": "execute_result"
    },
    {
     "data": {
      "image/png": "[encoded data removed]",
      "text/plain": [
       "<Figure size 750x750 with 12 Axes>"
      ]
     },
     "metadata": {},
     "output_type": "display_data"
    }
   ],
   "source": [
    "# Importa le librerie necessarie\n",
    "import numpy as np\n",
    "import seaborn as sns\n",
    "import matplotlib.pyplot as plt\n",
    "\n",
    "# Seleziona colonne numeriche nel DataFrame\n",
    "nf = df.select_dtypes(include=[np.number])\n",
    "\n",
    "# Crea un pairplot utilizzando seaborn con le colonne numeriche selezionate\n",
    "sns.pairplot(df[nf.columns])\n",
    "\n",
    "# Aggiungi un titolo al pairplot\n",
    "plt.title(\"Matrice di dispersione\")\n",
    "\n",
    "# Visualizza il pairplot\n",
    "plt.show()\n"
   ]
  },
  {
   "cell_type": "code",
   "execution_count": 5,
   "id": "9a33277c",
   "metadata": {},
   "outputs": [
    {
     "data": {
      "text/html": [
       "<div>\n",
       "<style scoped>\n",
       "    .dataframe tbody tr th:only-of-type {\n",
       "        vertical-align: middle;\n",
       "    }\n",
       "\n",
       "    .dataframe tbody tr th {\n",
       "        vertical-align: top;\n",
       "    }\n",
       "\n",
       "    .dataframe thead th {\n",
       "        text-align: right;\n",
       "    }\n",
       "</style>\n",
       "<table border=\"1\" class=\"dataframe\">\n",
       "  <thead>\n",
       "    <tr style=\"text-align: right;\">\n",
       "      <th></th>\n",
       "      <th>CatCol1</th>\n",
       "      <th>CatCol2</th>\n",
       "      <th>NumCol1</th>\n",
       "      <th>NumCol2</th>\n",
       "      <th>NumCol3</th>\n",
       "    </tr>\n",
       "  </thead>\n",
       "  <tbody>\n",
       "    <tr>\n",
       "      <th>0</th>\n",
       "      <td>A</td>\n",
       "      <td>NaN</td>\n",
       "      <td>0.440877</td>\n",
       "      <td>49.0</td>\n",
       "      <td>0.246007</td>\n",
       "    </tr>\n",
       "    <tr>\n",
       "      <th>1</th>\n",
       "      <td>A</td>\n",
       "      <td>Y</td>\n",
       "      <td>1.945879</td>\n",
       "      <td>28.0</td>\n",
       "      <td>0.936825</td>\n",
       "    </tr>\n",
       "    <tr>\n",
       "      <th>2</th>\n",
       "      <td>C</td>\n",
       "      <td>X</td>\n",
       "      <td>0.988834</td>\n",
       "      <td>42.0</td>\n",
       "      <td>0.751516</td>\n",
       "    </tr>\n",
       "    <tr>\n",
       "      <th>3</th>\n",
       "      <td>A</td>\n",
       "      <td>Y</td>\n",
       "      <td>-0.181978</td>\n",
       "      <td>73.0</td>\n",
       "      <td>0.950696</td>\n",
       "    </tr>\n",
       "    <tr>\n",
       "      <th>4</th>\n",
       "      <td>B</td>\n",
       "      <td>X</td>\n",
       "      <td>2.080615</td>\n",
       "      <td>74.0</td>\n",
       "      <td>0.903045</td>\n",
       "    </tr>\n",
       "    <tr>\n",
       "      <th>...</th>\n",
       "      <td>...</td>\n",
       "      <td>...</td>\n",
       "      <td>...</td>\n",
       "      <td>...</td>\n",
       "      <td>...</td>\n",
       "    </tr>\n",
       "    <tr>\n",
       "      <th>9995</th>\n",
       "      <td>C</td>\n",
       "      <td>Y</td>\n",
       "      <td>1.352114</td>\n",
       "      <td>61.0</td>\n",
       "      <td>0.728445</td>\n",
       "    </tr>\n",
       "    <tr>\n",
       "      <th>9996</th>\n",
       "      <td>C</td>\n",
       "      <td>Y</td>\n",
       "      <td>1.143642</td>\n",
       "      <td>67.0</td>\n",
       "      <td>0.605930</td>\n",
       "    </tr>\n",
       "    <tr>\n",
       "      <th>9997</th>\n",
       "      <td>A</td>\n",
       "      <td>X</td>\n",
       "      <td>-0.665794</td>\n",
       "      <td>54.0</td>\n",
       "      <td>0.071041</td>\n",
       "    </tr>\n",
       "    <tr>\n",
       "      <th>9998</th>\n",
       "      <td>C</td>\n",
       "      <td>Y</td>\n",
       "      <td>0.004278</td>\n",
       "      <td>NaN</td>\n",
       "      <td>NaN</td>\n",
       "    </tr>\n",
       "    <tr>\n",
       "      <th>9999</th>\n",
       "      <td>A</td>\n",
       "      <td>X</td>\n",
       "      <td>0.622473</td>\n",
       "      <td>95.0</td>\n",
       "      <td>0.751384</td>\n",
       "    </tr>\n",
       "  </tbody>\n",
       "</table>\n",
       "<p>9995 rows × 5 columns</p>\n",
       "</div>"
      ],
      "text/plain": [
       "     CatCol1 CatCol2   NumCol1  NumCol2   NumCol3\n",
       "0          A     NaN  0.440877     49.0  0.246007\n",
       "1          A       Y  1.945879     28.0  0.936825\n",
       "2          C       X  0.988834     42.0  0.751516\n",
       "3          A       Y -0.181978     73.0  0.950696\n",
       "4          B       X  2.080615     74.0  0.903045\n",
       "...      ...     ...       ...      ...       ...\n",
       "9995       C       Y  1.352114     61.0  0.728445\n",
       "9996       C       Y  1.143642     67.0  0.605930\n",
       "9997       A       X -0.665794     54.0  0.071041\n",
       "9998       C       Y  0.004278      NaN       NaN\n",
       "9999       A       X  0.622473     95.0  0.751384\n",
       "\n",
       "[9995 rows x 5 columns]"
      ]
     },
     "execution_count": 5,
     "metadata": {},
     "output_type": "execute_result"
    }
   ],
   "source": [
    "df= df.dropna(subset=[\"CatCol1\",\"CatCol2\"], how= \"all\")\n",
    "df"
   ]
  },
  {
   "cell_type": "code",
   "execution_count": 8,
   "id": "65ce8ce4",
   "metadata": {},
   "outputs": [
    {
     "data": {
      "text/html": [
       "<div>\n",
       "<style scoped>\n",
       "    .dataframe tbody tr th:only-of-type {\n",
       "        vertical-align: middle;\n",
       "    }\n",
       "\n",
       "    .dataframe tbody tr th {\n",
       "        vertical-align: top;\n",
       "    }\n",
       "\n",
       "    .dataframe thead th {\n",
       "        text-align: right;\n",
       "    }\n",
       "</style>\n",
       "<table border=\"1\" class=\"dataframe\">\n",
       "  <thead>\n",
       "    <tr style=\"text-align: right;\">\n",
       "      <th></th>\n",
       "      <th>CatCol1</th>\n",
       "      <th>CatCol2</th>\n",
       "      <th>NumCol1</th>\n",
       "      <th>NumCol2</th>\n",
       "      <th>NumCol3</th>\n",
       "    </tr>\n",
       "  </thead>\n",
       "  <tbody>\n",
       "    <tr>\n",
       "      <th>0</th>\n",
       "      <td>A</td>\n",
       "      <td>NaN</td>\n",
       "      <td>0.440877</td>\n",
       "      <td>49.0</td>\n",
       "      <td>0.246007</td>\n",
       "    </tr>\n",
       "    <tr>\n",
       "      <th>1</th>\n",
       "      <td>A</td>\n",
       "      <td>Y</td>\n",
       "      <td>1.945879</td>\n",
       "      <td>28.0</td>\n",
       "      <td>0.936825</td>\n",
       "    </tr>\n",
       "    <tr>\n",
       "      <th>2</th>\n",
       "      <td>C</td>\n",
       "      <td>X</td>\n",
       "      <td>0.988834</td>\n",
       "      <td>42.0</td>\n",
       "      <td>0.751516</td>\n",
       "    </tr>\n",
       "    <tr>\n",
       "      <th>3</th>\n",
       "      <td>A</td>\n",
       "      <td>Y</td>\n",
       "      <td>-0.181978</td>\n",
       "      <td>73.0</td>\n",
       "      <td>0.950696</td>\n",
       "    </tr>\n",
       "    <tr>\n",
       "      <th>4</th>\n",
       "      <td>B</td>\n",
       "      <td>X</td>\n",
       "      <td>2.080615</td>\n",
       "      <td>74.0</td>\n",
       "      <td>0.903045</td>\n",
       "    </tr>\n",
       "    <tr>\n",
       "      <th>...</th>\n",
       "      <td>...</td>\n",
       "      <td>...</td>\n",
       "      <td>...</td>\n",
       "      <td>...</td>\n",
       "      <td>...</td>\n",
       "    </tr>\n",
       "    <tr>\n",
       "      <th>9995</th>\n",
       "      <td>C</td>\n",
       "      <td>Y</td>\n",
       "      <td>1.352114</td>\n",
       "      <td>61.0</td>\n",
       "      <td>0.728445</td>\n",
       "    </tr>\n",
       "    <tr>\n",
       "      <th>9996</th>\n",
       "      <td>C</td>\n",
       "      <td>Y</td>\n",
       "      <td>1.143642</td>\n",
       "      <td>67.0</td>\n",
       "      <td>0.605930</td>\n",
       "    </tr>\n",
       "    <tr>\n",
       "      <th>9997</th>\n",
       "      <td>A</td>\n",
       "      <td>X</td>\n",
       "      <td>-0.665794</td>\n",
       "      <td>54.0</td>\n",
       "      <td>0.071041</td>\n",
       "    </tr>\n",
       "    <tr>\n",
       "      <th>9998</th>\n",
       "      <td>C</td>\n",
       "      <td>Y</td>\n",
       "      <td>0.004278</td>\n",
       "      <td>NaN</td>\n",
       "      <td>NaN</td>\n",
       "    </tr>\n",
       "    <tr>\n",
       "      <th>9999</th>\n",
       "      <td>A</td>\n",
       "      <td>X</td>\n",
       "      <td>0.622473</td>\n",
       "      <td>95.0</td>\n",
       "      <td>0.751384</td>\n",
       "    </tr>\n",
       "  </tbody>\n",
       "</table>\n",
       "<p>9975 rows × 5 columns</p>\n",
       "</div>"
      ],
      "text/plain": [
       "     CatCol1 CatCol2   NumCol1  NumCol2   NumCol3\n",
       "0          A     NaN  0.440877     49.0  0.246007\n",
       "1          A       Y  1.945879     28.0  0.936825\n",
       "2          C       X  0.988834     42.0  0.751516\n",
       "3          A       Y -0.181978     73.0  0.950696\n",
       "4          B       X  2.080615     74.0  0.903045\n",
       "...      ...     ...       ...      ...       ...\n",
       "9995       C       Y  1.352114     61.0  0.728445\n",
       "9996       C       Y  1.143642     67.0  0.605930\n",
       "9997       A       X -0.665794     54.0  0.071041\n",
       "9998       C       Y  0.004278      NaN       NaN\n",
       "9999       A       X  0.622473     95.0  0.751384\n",
       "\n",
       "[9975 rows x 5 columns]"
      ]
     },
     "execution_count": 8,
     "metadata": {},
     "output_type": "execute_result"
    }
   ],
   "source": [
    "# Elimina le righe in cui tutti i valori nelle colonne specificate sono mancanti\n",
    "df = df.dropna(subset=[\"NumCol1\", \"NumCol2\", \"NumCol3\"], how=\"all\")\n",
    "\n",
    "# Stampa il DataFrame\n",
    "df\n"
   ]
  },
  {
   "cell_type": "code",
   "execution_count": 17,
   "id": "70d2784b",
   "metadata": {},
   "outputs": [
    {
     "name": "stdout",
     "output_type": "stream",
     "text": [
      "     CatCol1 CatCol2   NumCol1    NumCol2   NumCol3\n",
      "0          A       Y  0.440877  49.000000  0.246007\n",
      "1          A       Y  1.945879  28.000000  0.936825\n",
      "2          C       X  0.988834  42.000000  0.751516\n",
      "3          A       Y -0.181978  73.000000  0.950696\n",
      "4          B       X  2.080615  74.000000  0.903045\n",
      "...      ...     ...       ...        ...       ...\n",
      "9995       C       Y  1.352114  61.000000  0.728445\n",
      "9996       C       Y  1.143642  67.000000  0.605930\n",
      "9997       A       X -0.665794  54.000000  0.071041\n",
      "9998       C       Y  0.004278  49.845018  0.489352\n",
      "9999       A       X  0.622473  95.000000  0.751384\n",
      "\n",
      "[10000 rows x 5 columns]\n"
     ]
    }
   ],
   "source": [
    "numeric_cols = df.select_dtypes(include=['number'])\n",
    "categorical_cols = df.select_dtypes(exclude=['number'])\n",
    "\n",
    "# Sostituisci i missing values nelle colonne categoriche con la moda utilizzando .loc\n",
    "df.loc[:, categorical_cols.columns] = df[categorical_cols.columns].fillna(df[categorical_cols.columns].mode().iloc[0])\n",
    "\n",
    "# Calcola la media condizionata solo per le colonne numeriche con dati mancanti\n",
    "conditional_means = df[numeric_cols.columns].fillna(df.groupby('CatCol1')[numeric_cols.columns].transform('mean'))\n",
    "\n",
    "# Aggiorna le colonne numeriche con la media condizionata utilizzando .loc\n",
    "df.loc[:, numeric_cols.columns] = conditional_means\n",
    "\n",
    "# Stampa il DataFrame risultante\n",
    "print(df)\n"
   ]
  },
  {
   "cell_type": "code",
   "execution_count": 18,
   "id": "cd861cd0",
   "metadata": {},
   "outputs": [
    {
     "name": "stdout",
     "output_type": "stream",
     "text": [
      "     CatCol1 CatCol2   NumCol1    NumCol2   NumCol3\n",
      "0          A       Y  0.440877  49.000000  0.246007\n",
      "1          A       Y  1.945879  28.000000  0.936825\n",
      "2          C       X  0.988834  42.000000  0.751516\n",
      "3          A       Y -0.181978  73.000000  0.950696\n",
      "4          B       X  2.080615  74.000000  0.903045\n",
      "...      ...     ...       ...        ...       ...\n",
      "9995       C       Y  1.352114  61.000000  0.728445\n",
      "9996       C       Y  1.143642  67.000000  0.605930\n",
      "9997       A       X -0.665794  54.000000  0.071041\n",
      "9998       C       Y  0.004278  49.845018  0.489352\n",
      "9999       A       X  0.622473  95.000000  0.751384\n",
      "\n",
      "[10000 rows x 5 columns]\n"
     ]
    }
   ],
   "source": [
    "import pandas as pd\n",
    "import numpy as np\n",
    "\n",
    "# Impostare il seed per rendere i risultati riproducibili\n",
    "np.random.seed(41)\n",
    "\n",
    "# Creare un dataframe vuoto\n",
    "df = pd.DataFrame()\n",
    "\n",
    "# Generare dati casuali\n",
    "n_rows = 10000\n",
    "df['CatCol1'] = np.random.choice(['A', 'B', 'C'], size=n_rows)\n",
    "df['CatCol2'] = np.random.choice(['X', 'Y'], size=n_rows)\n",
    "df['NumCol1'] = np.random.randn(n_rows)\n",
    "df['NumCol2'] = np.random.randint(1, 100, size=n_rows)\n",
    "df['NumCol3'] = np.random.uniform(0, 1, size=n_rows)\n",
    "\n",
    "# Calcolare il numero totale di missing values desiderati\n",
    "total_missing_values = int(0.03 * n_rows * len(df.columns))\n",
    "\n",
    "# Introdurre missing values casuali\n",
    "for column in df.columns:\n",
    "    num_missing_values = np.random.randint(0, total_missing_values + 1)\n",
    "    missing_indices = np.random.choice(n_rows, size=num_missing_values, replace=False)\n",
    "    df.loc[missing_indices, column] = np.nan\n",
    "numeric_cols = df.select_dtypes(include=['number'])\n",
    "categorical_cols = df.select_dtypes(exclude=['number'])\n",
    "\n",
    "# Sostituisci i missing values nelle colonne categoriche con la moda utilizzando .loc\n",
    "df.loc[:, categorical_cols.columns] = df[categorical_cols.columns].fillna(df[categorical_cols.columns].mode().iloc[0])\n",
    "\n",
    "# Calcola la media condizionata solo per le colonne numeriche con dati mancanti\n",
    "conditional_means = df[numeric_cols.columns].fillna(df.groupby('CatCol1')[numeric_cols.columns].transform('mean'))\n",
    "\n",
    "# Aggiorna le colonne numeriche con la media condizionata utilizzando .loc\n",
    "df.loc[:, numeric_cols.columns] = conditional_means\n",
    "\n",
    "# Stampa il DataFrame risultante\n",
    "print(df)\n"
   ]
  }
 ],
 "metadata": {
  "kernelspec": {
   "display_name": "Python 3 (ipykernel)",
   "language": "python",
   "name": "python3"
  },
  "language_info": {
   "codemirror_mode": {
    "name": "ipython",
    "version": 3
   },
   "file_extension": ".py",
   "mimetype": "text/x-python",
   "name": "python",
   "nbconvert_exporter": "python",
   "pygments_lexer": "ipython3",
   "version": "3.11.4"
  }
 },
 "nbformat": 4,
 "nbformat_minor": 5
}
